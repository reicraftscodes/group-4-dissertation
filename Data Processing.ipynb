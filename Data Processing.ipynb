{
 "cells": [
  {
   "cell_type": "markdown",
   "id": "f5795de6",
   "metadata": {},
   "source": [
    "# Dataset Processing"
   ]
  },
  {
   "cell_type": "markdown",
   "id": "b0192da0",
   "metadata": {},
   "source": [
    "## Dataset Information\n",
    "\n",
    "###  IRIS\n",
    "- 4228 pairs of thermal and rgb images\n",
    "- 30 individuals\n",
    "- 3 expressions:  surprised, laughing, angry (ex1, ex2, ex3)\n",
    "- 5 illuminations: neutral facial expressions\n",
    "\n",
    "### KTFE\n",
    "- 3190 pairs of thermal and rgb images \n",
    "- 30 individuals\n",
    "- emotions: Suprise, happiness, anger, neutral, sadness, fear, disgust\n",
    "\n",
    "\n",
    "### Final Quantity before augmentation (raw data)\n",
    "- KTFE: 3193\n",
    "- IRIS: 946"
   ]
  },
  {
   "cell_type": "markdown",
   "id": "4f3c052b",
   "metadata": {},
   "source": [
    "## 1. Imports"
   ]
  },
  {
   "cell_type": "code",
   "execution_count": 1,
   "id": "8ab79905",
   "metadata": {},
   "outputs": [],
   "source": [
    "import os\n",
    "import shutil\n",
    "import cv2\n",
    "from skimage.transform import rotate\n",
    "import numpy as np\n",
    "from PIL import Image"
   ]
  },
  {
   "cell_type": "markdown",
   "id": "7c3806f6",
   "metadata": {},
   "source": [
    "## 2. Load datasets and preprocess"
   ]
  },
  {
   "cell_type": "code",
   "execution_count": 2,
   "id": "0bc08ab8",
   "metadata": {},
   "outputs": [],
   "source": [
    "#create thermal folder if it doesnt exist\n",
    "thermal = r\"Data/Thermal\"\n",
    "rgb = r\"Data/RGB\"\n",
    "if not os.path.exists(thermal):\n",
    "    os.makedirs(thermal)\n",
    "if not os.path.exists(rgb):\n",
    "    os.makedirs(rgb)\n",
    "\n",
    "#create augmentation folders if it doesnt exist\n",
    "thermalAug = r\"Data/ThermalAug\"\n",
    "rgbAug = r\"Data/RgbAug\"\n",
    "if not os.path.exists(thermalAug):\n",
    "    os.makedirs(thermalAug)\n",
    "if not os.path.exists(rgbAug):\n",
    "    os.makedirs(rgbAug)"
   ]
  },
  {
   "cell_type": "markdown",
   "id": "a231e788",
   "metadata": {},
   "source": [
    "### 2.1 Function to resize images"
   ]
  },
  {
   "cell_type": "code",
   "execution_count": 3,
   "id": "ec74f145",
   "metadata": {},
   "outputs": [],
   "source": [
    "def resizeImg(source, f):\n",
    "    rePath = os.path.join(source, f)\n",
    "    reImage = Image.open(rePath)\n",
    "    reImage = reImage.resize((224, 224)) #for VIT\n",
    "    reImage.save(rePath)\n",
    "    return rePath"
   ]
  },
  {
   "cell_type": "markdown",
   "id": "c7e1a106",
   "metadata": {},
   "source": [
    "### 2.2 IRIS"
   ]
  },
  {
   "cell_type": "code",
   "execution_count": 4,
   "id": "260b414c",
   "metadata": {},
   "outputs": [],
   "source": [
    "#Paths\n",
    "pathSearch = \"./IRIS\"\n",
    "source = './'\n",
    "\n",
    "\n",
    "#to rename files to Suprised\n",
    "tNumber = 1\n",
    "rNumber = 1\n",
    "\n",
    "for root, dirs, files in os.walk(pathSearch): \n",
    "    for directory in dirs: #go through each folder\n",
    "        if directory == 'exp1' or directory == 'ex1': #gets only ex1 (suprised)\n",
    "            folderPath1 = os.path.join(root, directory) \n",
    "            for file in os.listdir(folderPath1):\n",
    "                if 'L-' in file and 'Thumbs' not in file: #gets the thermal\n",
    "                    oldName = os.path.join(folderPath1, file)\n",
    "                    newName = f'T_Surprised_{tNumber}_IRIS.bmp'\n",
    "                    tNumber += 1 \n",
    "                    os.rename(oldName, newName) #renames\n",
    "\n",
    "                if 'V-' in file and 'Thumbs' not in file: #gets the rgb\n",
    "                    oldName = os.path.join(folderPath1, file)\n",
    "                    newName = f'R_Surprised_{rNumber}_IRIS.bmp'\n",
    "                    os.rename(oldName, newName)\n",
    "                    rNumber += 1\n",
    "\n",
    "        if directory == 'exp2' or directory == 'ex2': #gets only ex2 (happy)\n",
    "            folderPath1 = os.path.join(root, directory) \n",
    "            for file in os.listdir(folderPath1):\n",
    "                if 'L-' in file and 'Thumbs' not in file:\n",
    "                    oldName = os.path.join(folderPath1, file)\n",
    "                    newName = f'T_Happy_{tNumber}_IRIS.bmp'\n",
    "                    tNumber += 1 \n",
    "                    os.rename(oldName, newName)\n",
    "\n",
    "                if 'V-' in file and 'Thumbs' not in file:\n",
    "                    oldName = os.path.join(folderPath1, file)\n",
    "                    newName = f'R_Happy_{rNumber}_IRIS.bmp'\n",
    "                    os.rename(oldName, newName)\n",
    "                    rNumber += 1\n",
    "           \n",
    "\n",
    "        if directory == 'exp3' or directory == 'ex3': #gets only ex3 (angry)\n",
    "            folderPath1 = os.path.join(root, directory) \n",
    "            for file in os.listdir(folderPath1):\n",
    "                if 'L-' in file and 'Thumbs' not in file:\n",
    "                    oldName = os.path.join(folderPath1, file)\n",
    "                    newName = f'T_Angry_{tNumber}_IRIS.bmp'\n",
    "                    os.rename(oldName, newName)\n",
    "                    tNumber += 1 \n",
    "\n",
    "                if 'V-' in file and 'Thumbs' not in file:\n",
    "                    oldName = os.path.join(folderPath1, file)\n",
    "                    newName = f'R_Angry_{rNumber}_IRIS.bmp'\n",
    "                    os.rename(oldName, newName)\n",
    "                    rNumber += 1\n",
    "        \n",
    "\n",
    "\n",
    "                    \n",
    "#move the thermal files\n",
    "files = os.listdir(source)\n",
    "for f in files:\n",
    "    if 'T_' in f:\n",
    "        rePath = resizeImg(source, f)\n",
    "        shutil.move(rePath, thermal)\n",
    "        \n",
    "\n",
    "#move the rgb files\n",
    "files = os.listdir(source)\n",
    "for f in files:\n",
    "    if 'R_' in f:\n",
    "        rePath = resizeImg(source, f)\n",
    "        shutil.move(rePath, rgb)\n"
   ]
  },
  {
   "cell_type": "markdown",
   "id": "6ab43fd2",
   "metadata": {},
   "source": [
    "### 2.3 KTFE"
   ]
  },
  {
   "cell_type": "code",
   "execution_count": 5,
   "id": "00ab97a9",
   "metadata": {},
   "outputs": [],
   "source": [
    "#Paths\n",
    "pathSearchK = \"./KTFE\"\n",
    "source = './'\n",
    "\n",
    "ktfeT = 1\n",
    "ktfeR = 1\n",
    "\n",
    "for root, dirs, files in os.walk(pathSearchK): \n",
    "    for directory in dirs: #go through each folder\n",
    "     \n",
    "        if directory == 'images': #gets the images in each thermal and rgb folder\n",
    "            ktfePath = os.path.join(root, directory) \n",
    "            for file in os.listdir(ktfePath):\n",
    "                if 'IR' in file: #gets the thermal\n",
    "                    if 'anger' in file or 'angry' in file: #anger\n",
    "                        oldName = os.path.join(ktfePath, file)\n",
    "                        newName = f'T_Angry_{ktfeT}_KTFE.jpg'\n",
    "                        os.rename(oldName, newName)\n",
    "                        ktfeT += 1\n",
    "                    if 'disgust' in file: #disgust\n",
    "                        oldName = os.path.join(ktfePath, file)\n",
    "                        newName = f'T_Disgust_{ktfeT}_KTFE.jpg'\n",
    "                        os.rename(oldName, newName)\n",
    "                        ktfeT += 1\n",
    "                    if 'fear' in file: #fear\n",
    "                        oldName = os.path.join(ktfePath, file)\n",
    "                        newName = f'T_Fear_{ktfeT}_KTFE.jpg'\n",
    "                        os.rename(oldName, newName)\n",
    "                        ktfeT += 1\n",
    "                    if 'happy' in file: #happy\n",
    "                        oldName = os.path.join(ktfePath, file)\n",
    "                        newName = f'T_Happy_{ktfeT}_KTFE.jpg'\n",
    "                        os.rename(oldName, newName)\n",
    "                        ktfeT += 1\n",
    "                    if 'neutral' in file: #neutral\n",
    "                        oldName = os.path.join(ktfePath, file)\n",
    "                        newName = f'T_Neutral_{ktfeT}_KTFE.jpg'\n",
    "                        os.rename(oldName, newName)\n",
    "                        ktfeT += 1\n",
    "                    if 'sad' in file: #sad\n",
    "                        oldName = os.path.join(ktfePath, file)\n",
    "                        newName = f'T_Sad_{ktfeT}_KTFE.jpg'\n",
    "                        os.rename(oldName, newName)\n",
    "                        ktfeT += 1\n",
    "                    if 'suprise' in file or 'Suprise' in file or 'surprise' in file or 'Surprise' in file: #suprise\n",
    "                        oldName = os.path.join(ktfePath, file)\n",
    "                        newName = f'T_Surprised_{ktfeT}_KTFE.jpg'\n",
    "                        os.rename(oldName, newName)\n",
    "                        ktfeT += 1\n",
    "     \n",
    "            for file in os.listdir(ktfePath):\n",
    "                if 'VR' in file: #gets the rgb\n",
    "                    if 'anger' in file or 'angry' in file: #anger\n",
    "                        oldName = os.path.join(ktfePath, file)\n",
    "                        newName = f'R_Angry_{ktfeR}_KTFE.jpg'\n",
    "                        os.rename(oldName, newName)\n",
    "                        ktfeR += 1\n",
    "                    if 'disgust' in file: #disgust\n",
    "                        oldName = os.path.join(ktfePath, file)\n",
    "                        newName = f'R_Disgust_{ktfeR}_KTFE.jpg'\n",
    "                        os.rename(oldName, newName)\n",
    "                        ktfeR += 1\n",
    "                    if 'fear' in file: #fear\n",
    "                        oldName = os.path.join(ktfePath, file)\n",
    "                        newName = f'R_Fear_{ktfeR}_KTFE.jpg'\n",
    "                        os.rename(oldName, newName)\n",
    "                        ktfeR += 1\n",
    "                    if 'happy' in file: #happy\n",
    "                        oldName = os.path.join(ktfePath, file)\n",
    "                        newName = f'R_Happy_{ktfeR}_KTFE.jpg'\n",
    "                        os.rename(oldName, newName)\n",
    "                        ktfeR += 1\n",
    "                    if 'neutral' in file: #neutral\n",
    "                        oldName = os.path.join(ktfePath, file)\n",
    "                        newName = f'R_Neutral_{ktfeR}_KTFE.jpg'\n",
    "                        os.rename(oldName, newName)\n",
    "                        ktfeR += 1\n",
    "                    if 'sad' in file: #sad\n",
    "                        oldName = os.path.join(ktfePath, file)\n",
    "                        newName = f'R_Sad_{ktfeR}_KTFE.jpg'\n",
    "                        os.rename(oldName, newName)\n",
    "                        ktfeR += 1\n",
    "                    if 'suprise' in file or 'Suprise' in file or 'surprise' in file or 'Surprise' in file:\n",
    "                        oldName = os.path.join(ktfePath, file)\n",
    "                        newName = f'R_Surprised_{ktfeR}_KTFE.jpg'\n",
    "                        os.rename(oldName, newName)\n",
    "                        ktfeR += 1\n",
    "                \n",
    "                    \n",
    "#move the thermal files\n",
    "files = os.listdir(source)\n",
    "for f in files:\n",
    "    if 'T_' in f:\n",
    "        rePath = resizeImg(source, f)\n",
    "        shutil.move(rePath, thermal)\n",
    "\n",
    "#move the rgb files\n",
    "files = os.listdir(source)\n",
    "for f in files:\n",
    "    if 'R_' in f:\n",
    "        rePath = resizeImg(source, f)\n",
    "        shutil.move(rePath, rgb)"
   ]
  },
  {
   "cell_type": "markdown",
   "id": "9a6666a3",
   "metadata": {},
   "source": [
    "## 3. Augmentation"
   ]
  },
  {
   "cell_type": "markdown",
   "id": "cbf4c09c",
   "metadata": {},
   "source": [
    "### 3.1 Thermal"
   ]
  },
  {
   "cell_type": "markdown",
   "id": "197a371d",
   "metadata": {},
   "source": [
    "#### 3.1.1 Flip"
   ]
  },
  {
   "cell_type": "code",
   "execution_count": 6,
   "id": "a8f6b09a",
   "metadata": {},
   "outputs": [],
   "source": [
    "for file in os.listdir(thermal):\n",
    "    imgPath = os.path.join(thermal,file)\n",
    "    img = cv2.imread(imgPath)\n",
    "    horiz = cv2.flip(img,1)\n",
    "    augPath = os.path.join(thermalAug, f'{file}_flip.jpg')\n",
    "    cv2.imwrite(augPath, horiz)\n"
   ]
  },
  {
   "cell_type": "markdown",
   "id": "cd067fa0",
   "metadata": {},
   "source": [
    "#### 3.1.2 Rotate"
   ]
  },
  {
   "cell_type": "code",
   "execution_count": 7,
   "id": "abfc039f",
   "metadata": {},
   "outputs": [],
   "source": [
    "for file in os.listdir(thermal):\n",
    "    imgPath = os.path.join(thermal,file)\n",
    "    img = cv2.imread(imgPath)\n",
    "\n",
    "    #15 degree rotation\n",
    "    imgRotatePlus = rotate(img, 15,preserve_range = True)\n",
    "    uniImgPlus = imgRotatePlus.astype(np.uint8)\n",
    "    augPath = os.path.join(thermalAug, f'{file}_rotate15.jpg')\n",
    "    cv2.imwrite(augPath, uniImgPlus)\n",
    "\n",
    "    #-15 degree rotation\n",
    "    imgRotateNeg = rotate(img, -15,preserve_range = True)\n",
    "    uniImgNeg = imgRotateNeg.astype(np.uint8)\n",
    "    augPathNeg= os.path.join(thermalAug, f'{file}_rotate15neg.jpg')\n",
    "    cv2.imwrite(augPathNeg, uniImgNeg)\n",
    "\n"
   ]
  },
  {
   "cell_type": "markdown",
   "id": "d55ce5be",
   "metadata": {},
   "source": [
    "### 3.1.3 CLAHE"
   ]
  },
  {
   "cell_type": "code",
   "execution_count": 8,
   "id": "9d797fed",
   "metadata": {},
   "outputs": [],
   "source": [
    "for file in os.listdir(thermal):\n",
    "    imgPath = os.path.join(thermal,file)\n",
    "    img = cv2.imread(imgPath)\n",
    "\n",
    "    bwImage = cv2.cvtColor(img, cv2.COLOR_BGR2GRAY)\n",
    "    clahe = cv2.createCLAHE(clipLimit=5)\n",
    "    claheThermal = cv2.add(bwImage, 30)\n",
    "    augPath = os.path.join(thermalAug, f'{file}_clahe.jpg')\n",
    "    cv2.imwrite(augPath, claheThermal)"
   ]
  },
  {
   "cell_type": "markdown",
   "id": "8743a740",
   "metadata": {},
   "source": [
    "### 3.2 RGB"
   ]
  },
  {
   "cell_type": "markdown",
   "id": "5bf65639",
   "metadata": {},
   "source": [
    "#### 3.2.1  Flip"
   ]
  },
  {
   "cell_type": "code",
   "execution_count": 9,
   "id": "25924432",
   "metadata": {},
   "outputs": [],
   "source": [
    "for file in os.listdir(rgb):\n",
    "    imgPath = os.path.join(rgb,file)\n",
    "    img = cv2.imread(imgPath)\n",
    "    horiz = cv2.flip(img,1)\n",
    "    augPath = os.path.join(rgbAug, f'{file}_flip.jpg')\n",
    "    cv2.imwrite(augPath, horiz)\n"
   ]
  },
  {
   "cell_type": "markdown",
   "id": "bef2d628",
   "metadata": {},
   "source": [
    "#### 3.2.2 Rotate"
   ]
  },
  {
   "cell_type": "code",
   "execution_count": 10,
   "id": "bfadddae",
   "metadata": {},
   "outputs": [],
   "source": [
    "for file in os.listdir(rgb):\n",
    "    imgPath = os.path.join(rgb,file)\n",
    "    img = cv2.imread(imgPath)\n",
    "\n",
    "    #15 degree rotation\n",
    "    imgRotatePlus = rotate(img, 15,preserve_range = True)\n",
    "    uniImgPlus = imgRotatePlus.astype(np.uint8)\n",
    "    augPath = os.path.join(rgbAug, f'{file}_rotate15.jpg')\n",
    "    cv2.imwrite(augPath, uniImgPlus)\n",
    "\n",
    "    #-15 degree rotation\n",
    "    imgRotateNeg = rotate(img, -15,preserve_range = True)\n",
    "    uniImgNeg = imgRotateNeg.astype(np.uint8)\n",
    "    augPathNeg= os.path.join(rgbAug, f'{file}_rotate15neg.jpg')\n",
    "    cv2.imwrite(augPathNeg, uniImgNeg)"
   ]
  },
  {
   "cell_type": "markdown",
   "id": "0dd5a776",
   "metadata": {},
   "source": [
    "### 3.2.3 CLAHE"
   ]
  },
  {
   "cell_type": "code",
   "execution_count": 11,
   "id": "21116a2e",
   "metadata": {},
   "outputs": [],
   "source": [
    "for file in os.listdir(rgb):\n",
    "    imgPath = os.path.join(rgb,file)\n",
    "    img = cv2.imread(imgPath)\n",
    "\n",
    "    bwImage = cv2.cvtColor(img, cv2.COLOR_BGR2GRAY)\n",
    "    clahe = cv2.createCLAHE(clipLimit=5)\n",
    "    claheRGB = cv2.add(bwImage, 30)\n",
    "    augPath = os.path.join(rgbAug, f'{file}_clahe.jpg')\n",
    "    cv2.imwrite(augPath, claheRGB)"
   ]
  }
 ],
 "metadata": {
  "kernelspec": {
   "display_name": "Python 3",
   "language": "python",
   "name": "python3"
  },
  "language_info": {
   "codemirror_mode": {
    "name": "ipython",
    "version": 3
   },
   "file_extension": ".py",
   "mimetype": "text/x-python",
   "name": "python",
   "nbconvert_exporter": "python",
   "pygments_lexer": "ipython3",
   "version": "3.12.8"
  }
 },
 "nbformat": 4,
 "nbformat_minor": 5
}
