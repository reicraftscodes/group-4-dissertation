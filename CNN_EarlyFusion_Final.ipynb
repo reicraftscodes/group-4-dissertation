{
  "cells": [
    {
      "cell_type": "markdown",
      "id": "3492f02d",
      "metadata": {
        "id": "3492f02d"
      },
      "source": [
        "# CNN"
      ]
    },
    {
      "cell_type": "markdown",
      "id": "50a05e91",
      "metadata": {
        "id": "50a05e91"
      },
      "source": [
        "## 1. Imports"
      ]
    },
    {
      "cell_type": "markdown",
      "id": "1f08dfe4",
      "metadata": {
        "id": "1f08dfe4"
      },
      "source": [
        "### 1.1 Setup for Colab"
      ]
    },
    {
      "cell_type": "code",
      "execution_count": 1,
      "id": "8735bd29",
      "metadata": {
        "colab": {
          "base_uri": "https://localhost:8080/"
        },
        "id": "8735bd29",
        "outputId": "097b1013-2283-4f15-fe48-7f866dd5e87e"
      },
      "outputs": [
        {
          "output_type": "stream",
          "name": "stdout",
          "text": [
            "Mounted at /content/drive\n"
          ]
        }
      ],
      "source": [
        "from google.colab import drive\n",
        "drive.mount('/content/drive')"
      ]
    },
    {
      "cell_type": "code",
      "execution_count": 6,
      "id": "1cb7284c",
      "metadata": {
        "colab": {
          "base_uri": "https://localhost:8080/"
        },
        "id": "1cb7284c",
        "outputId": "97e22a85-19eb-4277-9bd3-9e8a18a18d73"
      },
      "outputs": [
        {
          "output_type": "stream",
          "name": "stdout",
          "text": [
            "/content/drive/MyDrive/data\n"
          ]
        }
      ],
      "source": [
        " cd /content/drive/MyDrive/data"
      ]
    },
    {
      "cell_type": "code",
      "execution_count": 7,
      "id": "248c4e23",
      "metadata": {
        "colab": {
          "base_uri": "https://localhost:8080/"
        },
        "id": "248c4e23",
        "outputId": "c3be8345-9369-4fef-aee1-4be7e7b76cff"
      },
      "outputs": [
        {
          "output_type": "stream",
          "name": "stdout",
          "text": [
            "\u001b[0m\u001b[01;34mbackup_removed_files\u001b[0m/        \u001b[01;34mRGB\u001b[0m/     \u001b[01;34mThermal\u001b[0m/     \u001b[01;34mwandb\u001b[0m/\n",
            "CNN_Final_EarlyFusion.ipynb  \u001b[01;34mRgbAug\u001b[0m/  \u001b[01;34mThermalAug\u001b[0m/\n"
          ]
        }
      ],
      "source": [
        "ls"
      ]
    },
    {
      "cell_type": "markdown",
      "id": "19969f74",
      "metadata": {
        "id": "19969f74"
      },
      "source": [
        "### 1.2 Install Depedencies"
      ]
    },
    {
      "cell_type": "code",
      "execution_count": null,
      "id": "7f8586dd",
      "metadata": {
        "id": "7f8586dd"
      },
      "outputs": [],
      "source": [
        "#install dependencies\n",
        "# !pip install -r requirements.txt"
      ]
    },
    {
      "cell_type": "markdown",
      "source": [],
      "metadata": {
        "id": "3iIKdjEis3FO"
      },
      "id": "3iIKdjEis3FO"
    },
    {
      "cell_type": "code",
      "execution_count": 8,
      "id": "aefa7ebc",
      "metadata": {
        "id": "aefa7ebc"
      },
      "outputs": [],
      "source": [
        "import os\n",
        "import copy\n",
        "import glob\n",
        "from sklearn.model_selection import train_test_split\n",
        "from sklearn import preprocessing\n",
        "from tqdm import tqdm\n",
        "from PIL import Image\n",
        "import torch\n",
        "import torch.nn as nn\n",
        "from torch.utils.data import DataLoader, Dataset\n",
        "import torchvision\n",
        "from torchvision import transforms,models\n",
        "from torchvision.models import shufflenet_v2_x1_0, ShuffleNet_V2_X1_0_Weights\n",
        "import matplotlib.pyplot as plt\n",
        "from sklearn.metrics import confusion_matrix, classification_report\n",
        "import numpy as np\n",
        "import seaborn as sns\n",
        "import pandas as pd\n",
        "import wandb"
      ]
    },
    {
      "cell_type": "markdown",
      "id": "99f7f641",
      "metadata": {
        "id": "99f7f641"
      },
      "source": [
        "### 1.2 Global Variables"
      ]
    },
    {
      "cell_type": "code",
      "execution_count": 9,
      "id": "43a55e95",
      "metadata": {
        "id": "43a55e95"
      },
      "outputs": [],
      "source": [
        "EPOCHS = 5\n",
        "CLASSES = 7\n",
        "BATCH_SIZE = 64\n",
        "NUM_WORKERS = 4 # change based on specification of computer\n",
        "LEARNING_RATE = 0.001"
      ]
    },
    {
      "cell_type": "code",
      "source": [
        "wandb.init(\n",
        "    project=\"multimodal_shuffle_cnn\",\n",
        "    name=\"early_fusion_cnn\",\n",
        "    config={\n",
        "        \"epochs\": EPOCHS,\n",
        "        \"batch_size\": BATCH_SIZE,\n",
        "        \"learning_rate\": LEARNING_RATE,\n",
        "        \"model\": \"CNN Early Fusion\",\n",
        "        \"fusion_type\": \"att\"\n",
        "    }\n",
        ")"
      ],
      "metadata": {
        "colab": {
          "base_uri": "https://localhost:8080/",
          "height": 288
        },
        "id": "Hhr_67IJzxfy",
        "outputId": "c162eb48-b450-4e17-cf8e-b148fb82d6d7"
      },
      "id": "Hhr_67IJzxfy",
      "execution_count": 10,
      "outputs": [
        {
          "output_type": "stream",
          "name": "stderr",
          "text": [
            "/usr/local/lib/python3.12/dist-packages/notebook/notebookapp.py:191: SyntaxWarning: invalid escape sequence '\\/'\n",
            "  | |_| | '_ \\/ _` / _` |  _/ -_)\n"
          ]
        },
        {
          "output_type": "display_data",
          "data": {
            "text/plain": [
              "<IPython.core.display.Javascript object>"
            ],
            "application/javascript": [
              "\n",
              "        window._wandbApiKey = new Promise((resolve, reject) => {\n",
              "            function loadScript(url) {\n",
              "            return new Promise(function(resolve, reject) {\n",
              "                let newScript = document.createElement(\"script\");\n",
              "                newScript.onerror = reject;\n",
              "                newScript.onload = resolve;\n",
              "                document.body.appendChild(newScript);\n",
              "                newScript.src = url;\n",
              "            });\n",
              "            }\n",
              "            loadScript(\"https://cdn.jsdelivr.net/npm/postmate/build/postmate.min.js\").then(() => {\n",
              "            const iframe = document.createElement('iframe')\n",
              "            iframe.style.cssText = \"width:0;height:0;border:none\"\n",
              "            document.body.appendChild(iframe)\n",
              "            const handshake = new Postmate({\n",
              "                container: iframe,\n",
              "                url: 'https://wandb.ai/authorize'\n",
              "            });\n",
              "            const timeout = setTimeout(() => reject(\"Couldn't auto authenticate\"), 5000)\n",
              "            handshake.then(function(child) {\n",
              "                child.on('authorize', data => {\n",
              "                    clearTimeout(timeout)\n",
              "                    resolve(data)\n",
              "                });\n",
              "            });\n",
              "            })\n",
              "        });\n",
              "    "
            ]
          },
          "metadata": {}
        },
        {
          "output_type": "stream",
          "name": "stderr",
          "text": [
            "\u001b[34m\u001b[1mwandb\u001b[0m: \u001b[33mWARNING\u001b[0m If you're specifying your api key in code, ensure this code is not shared publicly.\n",
            "\u001b[34m\u001b[1mwandb\u001b[0m: \u001b[33mWARNING\u001b[0m Consider setting the WANDB_API_KEY environment variable, or running `wandb login` from the command line.\n",
            "\u001b[34m\u001b[1mwandb\u001b[0m: No netrc file found, creating one.\n",
            "\u001b[34m\u001b[1mwandb\u001b[0m: Appending key for api.wandb.ai to your netrc file: /root/.netrc\n",
            "\u001b[34m\u001b[1mwandb\u001b[0m: Currently logged in as: \u001b[33mreicraftscodes\u001b[0m (\u001b[33mreicraftscodes-university-of-the-west-of-england\u001b[0m) to \u001b[32mhttps://api.wandb.ai\u001b[0m. Use \u001b[1m`wandb login --relogin`\u001b[0m to force relogin\n"
          ]
        },
        {
          "output_type": "display_data",
          "data": {
            "text/plain": [
              "<IPython.core.display.HTML object>"
            ],
            "text/html": [
              "Tracking run with wandb version 0.21.1"
            ]
          },
          "metadata": {}
        },
        {
          "output_type": "display_data",
          "data": {
            "text/plain": [
              "<IPython.core.display.HTML object>"
            ],
            "text/html": [
              "Run data is saved locally in <code>/content/drive/MyDrive/data/wandb/run-20250829_211458-4tlegkke</code>"
            ]
          },
          "metadata": {}
        },
        {
          "output_type": "display_data",
          "data": {
            "text/plain": [
              "<IPython.core.display.HTML object>"
            ],
            "text/html": [
              "Syncing run <strong><a href='https://wandb.ai/reicraftscodes-university-of-the-west-of-england/multimodal_shuffle_cnn/runs/4tlegkke' target=\"_blank\">early_fusion_cnn</a></strong> to <a href='https://wandb.ai/reicraftscodes-university-of-the-west-of-england/multimodal_shuffle_cnn' target=\"_blank\">Weights & Biases</a> (<a href='https://wandb.me/developer-guide' target=\"_blank\">docs</a>)<br>"
            ]
          },
          "metadata": {}
        },
        {
          "output_type": "display_data",
          "data": {
            "text/plain": [
              "<IPython.core.display.HTML object>"
            ],
            "text/html": [
              " View project at <a href='https://wandb.ai/reicraftscodes-university-of-the-west-of-england/multimodal_shuffle_cnn' target=\"_blank\">https://wandb.ai/reicraftscodes-university-of-the-west-of-england/multimodal_shuffle_cnn</a>"
            ]
          },
          "metadata": {}
        },
        {
          "output_type": "display_data",
          "data": {
            "text/plain": [
              "<IPython.core.display.HTML object>"
            ],
            "text/html": [
              " View run at <a href='https://wandb.ai/reicraftscodes-university-of-the-west-of-england/multimodal_shuffle_cnn/runs/4tlegkke' target=\"_blank\">https://wandb.ai/reicraftscodes-university-of-the-west-of-england/multimodal_shuffle_cnn/runs/4tlegkke</a>"
            ]
          },
          "metadata": {}
        },
        {
          "output_type": "execute_result",
          "data": {
            "text/html": [
              "<button onClick=\"this.nextSibling.style.display='block';this.style.display='none';\">Display W&B run</button><iframe src='https://wandb.ai/reicraftscodes-university-of-the-west-of-england/multimodal_shuffle_cnn/runs/4tlegkke?jupyter=true' style='border:none;width:100%;height:420px;display:none;'></iframe>"
            ],
            "text/plain": [
              "<wandb.sdk.wandb_run.Run at 0x7c4e84aae6c0>"
            ]
          },
          "metadata": {},
          "execution_count": 10
        }
      ]
    },
    {
      "cell_type": "markdown",
      "id": "f042cc2b",
      "metadata": {
        "id": "f042cc2b"
      },
      "source": [
        "## 2. Load Data and Split"
      ]
    },
    {
      "cell_type": "code",
      "execution_count": 11,
      "id": "69fef938",
      "metadata": {
        "id": "69fef938"
      },
      "outputs": [],
      "source": [
        "#directories\n",
        "rgbDir = ['RGB','RgbAug']\n",
        "thermalDir = ['Thermal','ThermalAug']"
      ]
    },
    {
      "cell_type": "markdown",
      "id": "4fa2bf36",
      "metadata": {
        "id": "4fa2bf36"
      },
      "source": [
        "### 2.1 Single Modality"
      ]
    },
    {
      "cell_type": "code",
      "execution_count": 12,
      "id": "5a80eed3",
      "metadata": {
        "id": "5a80eed3",
        "colab": {
          "base_uri": "https://localhost:8080/"
        },
        "outputId": "ba20599b-12f9-46cd-e4f8-15a062602215"
      },
      "outputs": [
        {
          "output_type": "stream",
          "name": "stdout",
          "text": [
            "Total files: 20675\n",
            "Data arranged as: tensor([0, 0, 0,  ..., 6, 6, 6])\n",
            "\n",
            "Sample output:\n",
            "File: RGB/R_Angry_10_KTFE.jpg\n",
            "Label: Angry\n",
            "\n"
          ]
        }
      ],
      "source": [
        "def loadDataSingleModality(modalDir):\n",
        "    '''\n",
        "    Loads and processes data from a single modality (either RGB or Thermal).\n",
        "    Args:\n",
        "        modalDir (list): List containing two directory paths - first for raw images, second for augmented images.\n",
        "    Returns:\n",
        "        pairedFiles (list): List of all image file paths.\n",
        "        tensorLabels (torch.Tensor): Tensor of integer-encoded labels corresponding to the images.\n",
        "    '''\n",
        "\n",
        "    #get list of files in the directory and combine them\n",
        "    pairedFiles = []\n",
        "    for data in modalDir:\n",
        "        pairedFiles.extend(glob.glob(os.path.join(data, \"*\")))\n",
        "    pairedFiles = sorted(pairedFiles)\n",
        "\n",
        "    print(f'Total files: {len(pairedFiles)}')\n",
        "\n",
        "\n",
        "    #get the labels from the filenames\n",
        "    SMLabels = [os.path.basename(f).split('_')[1] for f in pairedFiles] #1 = emotion label\n",
        "\n",
        "    #convert labels to integer\n",
        "    le = preprocessing.LabelEncoder()\n",
        "    intLabels = le.fit_transform(SMLabels)\n",
        "    #convert targets to tensor\n",
        "    tensorLabels = torch.as_tensor(intLabels)\n",
        "    #class names\n",
        "    classNames = le.classes_\n",
        "\n",
        "    print(f'Data arranged as: {tensorLabels}')\n",
        "    print(f'\\nSample output:\\nFile: {pairedFiles[0]}\\nLabel: {SMLabels[0]}\\n')\n",
        "\n",
        "    return pairedFiles, tensorLabels, classNames\n",
        "\n",
        "\n",
        "## For single modality testing (using raw and augmented data together)\n",
        "\n",
        "#change this to test either thermal or rgb\n",
        "modalDir = rgbDir\n",
        "\n",
        "#Call function to load data\n",
        "pairedFiles, tensorLabels, classNames = loadDataSingleModality(modalDir)\n",
        "\n",
        "#for saving results later\n",
        "if modalDir == rgbDir:\n",
        "    savingLabel = \"RGB\"\n",
        "else:\n",
        "    savingLabel = \"Thermal\""
      ]
    },
    {
      "cell_type": "markdown",
      "id": "7ef46b5a",
      "metadata": {
        "id": "7ef46b5a"
      },
      "source": [
        "### 2.2 Multi Modality"
      ]
    },
    {
      "cell_type": "code",
      "execution_count": 13,
      "id": "c14ebc3f",
      "metadata": {
        "colab": {
          "base_uri": "https://localhost:8080/"
        },
        "id": "c14ebc3f",
        "outputId": "95c6bf38-4289-462e-8518-b75fa6b30524"
      },
      "outputs": [
        {
          "output_type": "stream",
          "name": "stdout",
          "text": [
            "Total pairs: 20675\n",
            "Data arranged as: tensor([5, 5, 5,  ..., 0, 0, 0])\n",
            "\n",
            "Sample output:\n",
            "File: ('RGB/R_Sad_2002_KTFE.jpg', 'Thermal/T_Sad_2117_KTFE.jpg')\n",
            "Label: Sad\n",
            "\n"
          ]
        }
      ],
      "source": [
        "def loadDataMultiModality(rgbDir,thermalDir):\n",
        "    '''\n",
        "    Loads and processes data from both RGB and Thermal modalities.\n",
        "    Args:\n",
        "        rgbDir (list): List containing two directory paths for RGB images - first for raw images, second for augmented images.\n",
        "        thermalDir (list): List containing two directory paths for Thermal images - first for raw images, second for augmented images.\n",
        "    Returns:\n",
        "        pairedFiles (list): List of tuples, each containing a pair of (RGB image path, Thermal image path).\n",
        "        tensorLabels (torch.Tensor): Tensor of integer-encoded labels corresponding to the images.\n",
        "    '''\n",
        "\n",
        "\n",
        "    #get list of files in the directory and combine them\n",
        "    rgbFiles = []\n",
        "    thermalFiles = []\n",
        "    for data in rgbDir:\n",
        "        rgbFiles.extend(glob.glob(os.path.join(data, \"*\")))\n",
        "    for data in thermalDir:\n",
        "        thermalFiles.extend(glob.glob(os.path.join(data, \"*\")))\n",
        "\n",
        "    #pairs thermal and rgb files together\n",
        "    pairedFiles = list(zip(rgbFiles, thermalFiles))\n",
        "    print(f\"Total pairs: {len(pairedFiles)}\")\n",
        "\n",
        "    #get the labels from the filenames\n",
        "    SMLabels = [os.path.basename(f).split('_')[1] for f in thermalFiles] #1 = emotion label\n",
        "\n",
        "    #convert labels to integer\n",
        "    le = preprocessing.LabelEncoder()\n",
        "    intLabels = le.fit_transform(SMLabels)\n",
        "\n",
        "    #convert targets to tensor\n",
        "    tensorLabels = torch.as_tensor(intLabels)\n",
        "\n",
        "    #class names\n",
        "    classNames = le.classes_\n",
        "\n",
        "    print(f'Data arranged as: {tensorLabels}')\n",
        "    print(f'\\nSample output:\\nFile: {pairedFiles[0]}\\nLabel: {SMLabels[0]}\\n')\n",
        "\n",
        "    return pairedFiles, tensorLabels, classNames\n",
        "\n",
        "\n",
        "## For multi modality testing (using raw and augmented data together)\n",
        "\n",
        "#Call function to load data\n",
        "pairedFiles, tensorLabels, classNames = loadDataMultiModality(rgbDir,thermalDir)\n"
      ]
    },
    {
      "cell_type": "markdown",
      "id": "ce1eae48",
      "metadata": {
        "id": "ce1eae48"
      },
      "source": [
        "### 2.3 Split Data\n",
        "- 80:20"
      ]
    },
    {
      "cell_type": "code",
      "execution_count": 14,
      "id": "2a573e30",
      "metadata": {
        "id": "2a573e30",
        "colab": {
          "base_uri": "https://localhost:8080/"
        },
        "outputId": "387db1ac-b400-46f7-a04d-d9ce3e03c7ec"
      },
      "outputs": [
        {
          "output_type": "stream",
          "name": "stdout",
          "text": [
            "Train size: 16540\n",
            "Test size: 4135\n"
          ]
        }
      ],
      "source": [
        "\n",
        "#Split Data\n",
        "X_train, X_test, y_train, y_test = train_test_split(\n",
        "    pairedFiles, tensorLabels,\n",
        "    test_size=0.2,\n",
        "    stratify=tensorLabels,\n",
        "    random_state=42\n",
        ")\n",
        "print(f'Train size: {len(X_train)}\\nTest size: {len(X_test)}')"
      ]
    },
    {
      "cell_type": "code",
      "execution_count": 15,
      "id": "67063f12",
      "metadata": {
        "id": "67063f12"
      },
      "outputs": [],
      "source": [
        "transform = transforms.Compose([\n",
        "    transforms.Resize((224, 224)),\n",
        "    transforms.ToTensor(),\n",
        "     transforms.Normalize(mean=[0.485, 0.456, 0.406],\n",
        "                         std=[0.229, 0.224, 0.225])\n",
        "])"
      ]
    },
    {
      "cell_type": "markdown",
      "id": "40a72e60",
      "metadata": {
        "id": "40a72e60"
      },
      "source": [
        "## 3. DataLoader"
      ]
    },
    {
      "cell_type": "markdown",
      "id": "9bb67f53",
      "metadata": {
        "id": "9bb67f53"
      },
      "source": [
        "### 3.1 Single Modality"
      ]
    },
    {
      "cell_type": "code",
      "execution_count": 16,
      "id": "4e424a8d",
      "metadata": {
        "id": "4e424a8d"
      },
      "outputs": [],
      "source": [
        "class SingleModalImageDataset(Dataset):\n",
        "    def __init__(self, pairedFiles, labels, transform=None):\n",
        "        #initialise\n",
        "        self.pairedFiles = pairedFiles\n",
        "        self.labels = labels\n",
        "        self.transform = transform\n",
        "\n",
        "    def __len__(self):\n",
        "        #return the length of the dataset\n",
        "        return len(self.pairedFiles)\n",
        "\n",
        "    def __getitem__(self, idx):\n",
        "        #generates samples\n",
        "        imagePath = self.pairedFiles[idx]\n",
        "        image = Image.open(imagePath).convert('RGB')\n",
        "\n",
        "        if self.transform:\n",
        "            image = self.transform(image)\n",
        "\n",
        "        label = self.labels[idx]\n",
        "        return image, label\n",
        "\n",
        "\n",
        "train_dataset = SingleModalImageDataset(X_train, y_train, transform=transform)\n",
        "test_dataset = SingleModalImageDataset(X_test, y_test, transform=transform)"
      ]
    },
    {
      "cell_type": "markdown",
      "id": "2151af09",
      "metadata": {
        "id": "2151af09"
      },
      "source": [
        "### 3.2 Multi Modality"
      ]
    },
    {
      "cell_type": "code",
      "execution_count": 17,
      "id": "1b1bab7c",
      "metadata": {
        "id": "1b1bab7c"
      },
      "outputs": [],
      "source": [
        "class MultiModalImageDataset(Dataset):\n",
        "    def __init__(self, pairedFiles, labels, transform=None):\n",
        "        #initialise\n",
        "        self.pairedFiles = pairedFiles\n",
        "        self.labels = labels\n",
        "        self.transform = transform\n",
        "\n",
        "    def __len__(self):\n",
        "        #return the length of the dataset\n",
        "        return len(self.pairedFiles)\n",
        "\n",
        "    def __getitem__(self, idx):\n",
        "        #generates samples\n",
        "        rgbPath,thermalPath  = self.pairedFiles[idx]\n",
        "        rgb = Image.open(rgbPath).convert('RGB')\n",
        "        thermal = Image.open(thermalPath).convert('RGB') #try L greyscale\n",
        "\n",
        "        if self.transform:\n",
        "            rgb = self.transform(rgb)\n",
        "            thermal = self.transform(thermal)\n",
        "\n",
        "        label = self.labels[idx]\n",
        "        return (rgb,thermal),label\n",
        "\n",
        "train_dataset = MultiModalImageDataset(X_train, y_train, transform=transform)\n",
        "test_dataset = MultiModalImageDataset(X_test, y_test, transform=transform)"
      ]
    },
    {
      "cell_type": "markdown",
      "id": "52bfef92",
      "metadata": {
        "id": "52bfef92"
      },
      "source": [
        "### 3.3 Train and Test Loader"
      ]
    },
    {
      "cell_type": "code",
      "execution_count": 18,
      "id": "beb67bef",
      "metadata": {
        "id": "beb67bef"
      },
      "outputs": [],
      "source": [
        "train_loader = DataLoader(train_dataset, batch_size=BATCH_SIZE, shuffle=True,num_workers=NUM_WORKERS)\n",
        "test_loader = DataLoader(test_dataset, batch_size=BATCH_SIZE, shuffle=False,num_workers=NUM_WORKERS)"
      ]
    },
    {
      "cell_type": "markdown",
      "id": "CFtn9xCdIXUG",
      "metadata": {
        "id": "CFtn9xCdIXUG"
      },
      "source": [
        "## 4. ShuffleNet V.2"
      ]
    },
    {
      "cell_type": "markdown",
      "id": "45c25d06",
      "metadata": {
        "id": "45c25d06"
      },
      "source": [
        "### 4.1 Single Modality"
      ]
    },
    {
      "cell_type": "code",
      "execution_count": null,
      "id": "e1ad44c0",
      "metadata": {
        "id": "e1ad44c0"
      },
      "outputs": [],
      "source": [
        "#device configuration\n",
        "device = \"cuda\" if torch.cuda.is_available() else \"cpu\"\n",
        "\n",
        "#initialise model\n",
        "model = models.shufflenet_v2_x1_0(weights=ShuffleNet_V2_X1_0_Weights.DEFAULT)\n",
        "model.fc = nn.Linear(model.fc.in_features, CLASSES)\n",
        "model.to(device)\n",
        "\n",
        "#loss function and optimiser\n",
        "criterion = torch.nn.CrossEntropyLoss()\n",
        "optimiser = torch.optim.Adam(model.parameters(),lr=LEARNING_RATE)\n",
        "\n",
        "#to collect data for plotting later\n",
        "trainLosses = []\n",
        "testAccuracies = []\n",
        "predictionsArr = []\n",
        "targetsArr = []\n",
        "\n",
        "##Training\n",
        "for epoch in range(EPOCHS):\n",
        "    model.train()\n",
        "    runningTrain = 0\n",
        "    #progress bar\n",
        "    for x, y in tqdm(train_loader, desc=f\"Epoch {epoch+1} Training\"):\n",
        "        x, y = x.to(device), y.to(device)\n",
        "        optimiser.zero_grad()\n",
        "        loss = criterion(model(x), y)\n",
        "        loss.backward()\n",
        "        optimiser.step()\n",
        "        #batch loss calculation\n",
        "        runningTrain += loss.item() * x.size(0)\n",
        "    trainLoss = runningTrain / len(train_loader.dataset)\n",
        "\n",
        "    ##Evaluation\n",
        "    model.eval()\n",
        "    accPre = 0\n",
        "    totalDatapoints = 0\n",
        "    #progress bar\n",
        "    for input, target in tqdm(test_loader, desc=f\"Epoch {epoch+1} Evaluating\"):\n",
        "        input, target = input.to(device), target.to(device)\n",
        "        with torch.no_grad():\n",
        "            outputs = model(input)\n",
        "            #accuracy calculation\n",
        "            predicted = outputs.argmax(1)\n",
        "\n",
        "            #https://medium.com/@heyamit10/building-a-multiclass-classification-model-in-pytorch-a-detailed-practical-guide-b03fc93aa400\n",
        "            predictionsArr.extend(predicted.cpu().numpy())\n",
        "            targetsArr.extend(target.cpu().numpy())\n",
        "\n",
        "            accPre += (predicted == target).sum().item()\n",
        "            totalDatapoints += target.size(0)\n",
        "    finalAcc = accPre / totalDatapoints\n",
        "\n",
        "    trainLosses.append(trainLoss)\n",
        "    testAccuracies.append(finalAcc)\n",
        "\n",
        "\n",
        "    #prints each epoch's results\n",
        "    print(f\"Epoch {epoch+1}: Train Loss = {trainLoss:.4f}, Test Accuracy = {finalAcc:.4f}\")\n"
      ]
    },
    {
      "cell_type": "markdown",
      "id": "1adef83a",
      "metadata": {
        "id": "1adef83a"
      },
      "source": [
        "### 4.2 Multi Modality"
      ]
    },
    {
      "cell_type": "code",
      "execution_count": 19,
      "id": "3387f7d8",
      "metadata": {
        "id": "3387f7d8",
        "colab": {
          "base_uri": "https://localhost:8080/",
          "height": 885
        },
        "outputId": "87c0e6a5-cd00-404b-e063-0c21556fc5f1"
      },
      "outputs": [
        {
          "output_type": "stream",
          "name": "stdout",
          "text": [
            "Downloading: \"https://download.pytorch.org/models/shufflenetv2_x1-5666bf0f80.pth\" to /root/.cache/torch/hub/checkpoints/shufflenetv2_x1-5666bf0f80.pth\n"
          ]
        },
        {
          "output_type": "stream",
          "name": "stderr",
          "text": [
            "100%|██████████| 8.79M/8.79M [00:00<00:00, 74.7MB/s]\n",
            "Epoch 1 Training: 100%|██████████| 259/259 [24:16<00:00,  5.62s/it]\n",
            "Epoch 1 Evaluating: 100%|██████████| 65/65 [05:02<00:00,  4.66s/it]\n"
          ]
        },
        {
          "output_type": "stream",
          "name": "stdout",
          "text": [
            "Epoch 1: Train Loss = 0.9902, Test Accuracy = 0.7393\n"
          ]
        },
        {
          "output_type": "stream",
          "name": "stderr",
          "text": [
            "Epoch 2 Training: 100%|██████████| 259/259 [01:08<00:00,  3.77it/s]\n",
            "Epoch 2 Evaluating: 100%|██████████| 65/65 [00:16<00:00,  3.93it/s]\n"
          ]
        },
        {
          "output_type": "stream",
          "name": "stdout",
          "text": [
            "Epoch 2: Train Loss = 0.4396, Test Accuracy = 0.8152\n"
          ]
        },
        {
          "output_type": "stream",
          "name": "stderr",
          "text": [
            "Epoch 3 Training: 100%|██████████| 259/259 [01:05<00:00,  3.93it/s]\n",
            "Epoch 3 Evaluating: 100%|██████████| 65/65 [00:16<00:00,  3.88it/s]\n"
          ]
        },
        {
          "output_type": "stream",
          "name": "stdout",
          "text": [
            "Epoch 3: Train Loss = 0.2672, Test Accuracy = 0.7954\n"
          ]
        },
        {
          "output_type": "stream",
          "name": "stderr",
          "text": [
            "Epoch 4 Training: 100%|██████████| 259/259 [01:05<00:00,  3.94it/s]\n",
            "Epoch 4 Evaluating: 100%|██████████| 65/65 [00:16<00:00,  3.88it/s]\n"
          ]
        },
        {
          "output_type": "stream",
          "name": "stdout",
          "text": [
            "Epoch 4: Train Loss = 0.1848, Test Accuracy = 0.8948\n"
          ]
        },
        {
          "output_type": "stream",
          "name": "stderr",
          "text": [
            "Epoch 5 Training: 100%|██████████| 259/259 [01:05<00:00,  3.96it/s]\n",
            "Epoch 5 Evaluating: 100%|██████████| 65/65 [00:16<00:00,  3.96it/s]"
          ]
        },
        {
          "output_type": "stream",
          "name": "stdout",
          "text": [
            "Epoch 5: Train Loss = 0.1324, Test Accuracy = 0.8755\n",
            "\n",
            "Final Results:\n",
            "Best Test Accuracy: 0.8948\n",
            "Final Test Accuracy: 0.8755\n"
          ]
        },
        {
          "output_type": "stream",
          "name": "stderr",
          "text": [
            "\n"
          ]
        },
        {
          "output_type": "display_data",
          "data": {
            "text/plain": [
              "<IPython.core.display.HTML object>"
            ],
            "text/html": []
          },
          "metadata": {}
        },
        {
          "output_type": "display_data",
          "data": {
            "text/plain": [
              "<IPython.core.display.HTML object>"
            ],
            "text/html": [
              "<br>    <style><br>        .wandb-row {<br>            display: flex;<br>            flex-direction: row;<br>            flex-wrap: wrap;<br>            justify-content: flex-start;<br>            width: 100%;<br>        }<br>        .wandb-col {<br>            display: flex;<br>            flex-direction: column;<br>            flex-basis: 100%;<br>            flex: 1;<br>            padding: 10px;<br>        }<br>    </style><br><div class=\"wandb-row\"><div class=\"wandb-col\"><h3>Run history:</h3><br/><table class=\"wandb\"><tr><td>epoch</td><td>▁▃▅▆█</td></tr><tr><td>gpu_memory_allocated_GB</td><td>▁▁▁▁▁</td></tr><tr><td>gpu_memory_reserved_GB</td><td>▁▁▁▁▁</td></tr><tr><td>test_accuracy</td><td>▁▄▄█▇</td></tr><tr><td>train_loss</td><td>█▄▂▁▁</td></tr></table><br/></div><div class=\"wandb-col\"><h3>Run summary:</h3><br/><table class=\"wandb\"><tr><td>epoch</td><td>5</td></tr><tr><td>gpu_memory_allocated_GB</td><td>0.08507</td></tr><tr><td>gpu_memory_reserved_GB</td><td>1.7679</td></tr><tr><td>test_accuracy</td><td>0.87545</td></tr><tr><td>train_loss</td><td>0.13238</td></tr></table><br/></div></div>"
            ]
          },
          "metadata": {}
        },
        {
          "output_type": "display_data",
          "data": {
            "text/plain": [
              "<IPython.core.display.HTML object>"
            ],
            "text/html": [
              " View run <strong style=\"color:#cdcd00\">early_fusion_cnn</strong> at: <a href='https://wandb.ai/reicraftscodes-university-of-the-west-of-england/multimodal_shuffle_cnn/runs/4tlegkke' target=\"_blank\">https://wandb.ai/reicraftscodes-university-of-the-west-of-england/multimodal_shuffle_cnn/runs/4tlegkke</a><br> View project at: <a href='https://wandb.ai/reicraftscodes-university-of-the-west-of-england/multimodal_shuffle_cnn' target=\"_blank\">https://wandb.ai/reicraftscodes-university-of-the-west-of-england/multimodal_shuffle_cnn</a><br>Synced 5 W&B file(s), 0 media file(s), 0 artifact file(s) and 0 other file(s)"
            ]
          },
          "metadata": {}
        },
        {
          "output_type": "display_data",
          "data": {
            "text/plain": [
              "<IPython.core.display.HTML object>"
            ],
            "text/html": [
              "Find logs at: <code>./wandb/run-20250829_211458-4tlegkke/logs</code>"
            ]
          },
          "metadata": {}
        }
      ],
      "source": [
        "class EarlyFusionFER(nn.Module):\n",
        "    \"\"\"\n",
        "    Early Fusion CNN using concatenation fusion type\n",
        "    \"\"\"\n",
        "\n",
        "    def __init__(self, num_classes: int = 7, fusion_type: str = \"add\"):\n",
        "        \"\"\"\n",
        "        Args:\n",
        "            num_classes: Number of emotion classes (7 for FER)\n",
        "            fusion_type: How to fuse RGB and Thermal (\"concat\" or \"add\")\n",
        "        \"\"\"\n",
        "        super().__init__()\n",
        "\n",
        "        self.num_classes = num_classes\n",
        "        self.fusion_type = fusion_type\n",
        "\n",
        "        # Determine input channels\n",
        "        if fusion_type == \"concat\":\n",
        "            input_channels = 6\n",
        "        else:  # add\n",
        "            input_channels = 3\n",
        "\n",
        "        # Load pre-trained ShuffleNet V2\n",
        "        self.model = shufflenet_v2_x1_0(weights=ShuffleNet_V2_X1_0_Weights.DEFAULT)\n",
        "\n",
        "        # Modify first conv layer for multimodal input\n",
        "        if input_channels != 3:\n",
        "            # Original first conv layer\n",
        "            original_conv = self.model.conv1[0]\n",
        "\n",
        "            new_conv = nn.Conv2d(\n",
        "                # New number of input channels\n",
        "                input_channels,\n",
        "                # Keep original output channels\n",
        "                original_conv.out_channels,\n",
        "                # Same kernel size\n",
        "                kernel_size=original_conv.kernel_size,\n",
        "                stride=original_conv.stride,\n",
        "                padding=original_conv.padding,\n",
        "                bias=original_conv.bias is not None\n",
        "            )\n",
        "\n",
        "            # Initialise new conv weights\n",
        "            with torch.no_grad():\n",
        "                if input_channels == 6:  # concat case\n",
        "                    new_conv.weight[:, :3, :, :] = original_conv.weight  # RGB channels\n",
        "                    new_conv.weight[:, 3:6, :, :] = original_conv.weight  # Thermal channels\n",
        "\n",
        "                if original_conv.bias is not None:\n",
        "                    new_conv.bias.copy_(original_conv.bias)\n",
        "\n",
        "            # Replace the first conv layer\n",
        "            self.model.conv1[0] = new_conv\n",
        "\n",
        "        # Replace the final classifier to match num_classes\n",
        "        self.model.fc = nn.Linear(self.model.fc.in_features, num_classes)\n",
        "\n",
        "    def forward(self, rgb_images, thermal_images):\n",
        "        \"\"\"\n",
        "        Forward pass\n",
        "\n",
        "        Args:\n",
        "            rgb_images: RGB images tensor (B, 3, H, W)\n",
        "            thermal_images: Thermal images tensor (B, 3, H, W)\n",
        "\n",
        "        Returns:\n",
        "            Logits tensor (B, num_classes)\n",
        "        \"\"\"\n",
        "\n",
        "        # Ensure both images are on the same device\n",
        "        device = rgb_images.device\n",
        "        thermal_images = thermal_images.to(device)\n",
        "\n",
        "        # Fuse RGB and Thermal at input level\n",
        "        if self.fusion_type == \"concat\":   # concat\n",
        "            fused_input = torch.cat([rgb_images, thermal_images], dim=1)  # (B, 6, H, W) 6 channels\n",
        "        else:  # add\n",
        "            fused_input = rgb_images + thermal_images\n",
        "\n",
        "\n",
        "        # Forward pass through ShuffleNet\n",
        "        return self.model(fused_input) # Returns logits (B, num_classes)\n",
        "\n",
        "\n",
        "# Device configuration\n",
        "device = \"cuda\" if torch.cuda.is_available() else \"cpu\"\n",
        "\n",
        "# Initialise multimodal model\n",
        "model = EarlyFusionFER(num_classes=CLASSES, fusion_type=\"concat\")\n",
        "model.to(device)\n",
        "\n",
        "# Loss function and optimiser\n",
        "criterion = torch.nn.CrossEntropyLoss()\n",
        "optimiser = torch.optim.Adam(model.parameters(), lr=LEARNING_RATE)\n",
        "\n",
        "# To collect data for plotting later\n",
        "trainLosses = []\n",
        "testAccuracies = []\n",
        "predictionsArr = []\n",
        "targetsArr = []\n",
        "\n",
        "# For saving results\n",
        "savingLabel = \"MultiModal_EarlyFusion\"\n",
        "\n",
        "## Training\n",
        "for epoch in range(EPOCHS):\n",
        "    model.train()\n",
        "    runningTrain = 0\n",
        "\n",
        "    # Training loop\n",
        "    for (rgb, thermal), y in tqdm(train_loader, desc=f\"Epoch {epoch+1} Training\"):\n",
        "        rgb, thermal, y = rgb.to(device), thermal.to(device), y.to(device)\n",
        "        optimiser.zero_grad()\n",
        "\n",
        "        # Forward pass\n",
        "        outputs = model(rgb, thermal)\n",
        "        loss = criterion(outputs, y)\n",
        "\n",
        "        loss.backward()\n",
        "        optimiser.step()\n",
        "\n",
        "        # Accumulate batch loss\n",
        "        runningTrain += loss.item() * rgb.size(0)\n",
        "\n",
        "    # Calculate epoch training loss (once per epoch)\n",
        "    trainLoss = runningTrain / len(train_loader.dataset)\n",
        "\n",
        "    ## Evaluation\n",
        "    model.eval()\n",
        "    accPre = 0\n",
        "    totalDatapoints = 0\n",
        "\n",
        "    for (rgb, thermal), target in tqdm(test_loader, desc=f\"Epoch {epoch+1} Evaluating\"):\n",
        "        rgb, thermal, target = rgb.to(device), thermal.to(device), target.to(device)\n",
        "        with torch.no_grad():\n",
        "            outputs = model(rgb, thermal)\n",
        "            predicted = outputs.argmax(1)\n",
        "\n",
        "            # Collect predictions and targets\n",
        "            predictionsArr.extend(predicted.cpu().numpy())\n",
        "            targetsArr.extend(target.cpu().numpy())\n",
        "\n",
        "            accPre += (predicted == target).sum().item()\n",
        "            totalDatapoints += target.size(0)\n",
        "\n",
        "    finalAcc = accPre / totalDatapoints\n",
        "    trainLosses.append(trainLoss)\n",
        "    testAccuracies.append(finalAcc)\n",
        "\n",
        "    # Combined wandb log (train loss, test accuracy, GPU usage)\n",
        "    wandb.log({\n",
        "        \"epoch\": epoch + 1,\n",
        "        \"train_loss\": trainLoss,\n",
        "        \"test_accuracy\": finalAcc,\n",
        "        \"gpu_memory_allocated_GB\": torch.cuda.memory_allocated() / 1e9,\n",
        "        \"gpu_memory_reserved_GB\": torch.cuda.memory_reserved() / 1e9\n",
        "    })\n",
        "\n",
        "    # Print results\n",
        "    print(f\"Epoch {epoch+1}: Train Loss = {trainLoss:.4f}, Test Accuracy = {finalAcc:.4f}\")\n",
        "\n",
        "# Final results\n",
        "print(f\"\\nFinal Results:\")\n",
        "print(f\"Best Test Accuracy: {max(testAccuracies):.4f}\")\n",
        "print(f\"Final Test Accuracy: {testAccuracies[-1]:.4f}\")\n",
        "\n",
        "wandb.finish()"
      ]
    },
    {
      "cell_type": "markdown",
      "id": "72b6f1fc",
      "metadata": {
        "id": "72b6f1fc"
      },
      "source": [
        "## 5. Visualise and Save Results"
      ]
    },
    {
      "cell_type": "markdown",
      "id": "519ba2f2",
      "metadata": {
        "id": "519ba2f2"
      },
      "source": [
        "### 5.1 Save Metrics"
      ]
    },
    {
      "cell_type": "code",
      "execution_count": 20,
      "id": "4abd2b50",
      "metadata": {
        "id": "4abd2b50"
      },
      "outputs": [],
      "source": [
        "saveResults = \"trainingResults\"\n",
        "os.makedirs(saveResults, exist_ok=True)\n",
        "\n",
        "#save training loss and accuracy to CSV\n",
        "metrics = pd.DataFrame({'Epoch': range(1, len(trainLosses) + 1), 'Training Loss': trainLoss,'Test Accuracy': testAccuracies}) #create each row as epoch\n",
        "\n",
        "#saves based on modality used\n",
        "if savingLabel == \"RGB\":\n",
        "  metrics.to_csv(os.path.join(saveResults, \"metrics_RGB.csv\"), index=False)\n",
        "elif savingLabel == \"Thermal\":\n",
        "  metrics.to_csv(os.path.join(saveResults, \"metrics_Thermal.csv\"), index=False)\n",
        "else:\n",
        "  metrics.to_csv(os.path.join(saveResults, \"metrics_MultiModal_EarlyFusion.csv\"), index=False)\n"
      ]
    },
    {
      "cell_type": "markdown",
      "id": "e403f5bb",
      "metadata": {
        "id": "e403f5bb"
      },
      "source": [
        "### 5.2 Visualise Graphs"
      ]
    },
    {
      "cell_type": "code",
      "execution_count": null,
      "id": "28f460f4",
      "metadata": {
        "id": "28f460f4"
      },
      "outputs": [],
      "source": [
        "#loss curve\n",
        "plt.plot(range(1, len(trainLosses) + 1), trainLosses, marker='o')\n",
        "plt.title(\"Training Loss Over Epochs\")\n",
        "plt.xlabel(\"Epochs\")\n",
        "plt.ylabel(\"Loss\")\n",
        "plt.grid()\n",
        "#saves based on modality used\n",
        "if savingLabel == \"RGB\":\n",
        "    plt.savefig(os.path.join(saveResults, \"trainLoss_RGB.png\"))\n",
        "else:\n",
        "    plt.savefig(os.path.join(saveResults, \"trainLoss_Thermal.png\"))\n",
        "plt.show()\n",
        "\n",
        "#accuracy\n",
        "plt.plot(range(1, len(testAccuracies) + 1), testAccuracies, marker='o')\n",
        "plt.title(\"Test Accuracy Over Epochs\")\n",
        "plt.xlabel(\"Epochs\")\n",
        "plt.ylabel(\"Accuracy\")\n",
        "plt.grid()\n",
        "#saves based on modalžty used\n",
        "if savingLabel == \"RGB\":\n",
        "    plt.savefig(os.path.join(saveResults, \"testAccuracy_RGB.png\"))\n",
        "else:\n",
        "    plt.savefig(os.path.join(saveResults, \"testAccuracy_Thermal.png\"))\n",
        "plt.show()"
      ]
    },
    {
      "cell_type": "code",
      "source": [
        "# MULTIMODAL\n",
        "#loss curve\n",
        "plt.plot(range(1, len(trainLosses) + 1), trainLosses, marker='o')\n",
        "plt.title(\"Training Loss Over Epochs\")\n",
        "plt.xlabel(\"Epochs\")\n",
        "plt.ylabel(\"Loss\")\n",
        "plt.grid()\n",
        "#saves based on modality used\n",
        "if savingLabel == \"MultiModal_EarlyFusion\":\n",
        "    plt.savefig(os.path.join(saveResults, \"trainLoss_MultiModal_EarlyFusion.png\"))\n",
        "plt.show()\n",
        "\n",
        "#accuracy\n",
        "plt.plot(range(1, len(testAccuracies) + 1), testAccuracies, marker='o')\n",
        "plt.title(\"Test Accuracy Over Epochs\")\n",
        "plt.xlabel(\"Epochs\")\n",
        "plt.ylabel(\"Accuracy\")\n",
        "plt.grid()\n",
        "#saves based on modalžty used\n",
        "if savingLabel == \"MultiModal_EarlyFusion\":\n",
        "    plt.savefig(os.path.join(saveResults, \"testAccuracy_MultiModal_EarlyFusion.png\"))\n",
        "plt.show()"
      ],
      "metadata": {
        "id": "PGPEQKPVv-Kh",
        "colab": {
          "base_uri": "https://localhost:8080/",
          "height": 927
        },
        "outputId": "e338177c-e1a4-4f1b-b48c-b59f85cc98a6"
      },
      "id": "PGPEQKPVv-Kh",
      "execution_count": 21,
      "outputs": [
        {
          "output_type": "display_data",
          "data": {
            "text/plain": [
              "<Figure size 640x480 with 1 Axes>"
            ],
            "image/png": "[encoded data removed]"
          },
          "metadata": {}
        },
        {
          "output_type": "display_data",
          "data": {
            "text/plain": [
              "<Figure size 640x480 with 1 Axes>"
            ],
            "image/png": "[encoded data removed]"
          },
          "metadata": {}
        }
      ]
    },
    {
      "cell_type": "code",
      "execution_count": null,
      "id": "dde93d84",
      "metadata": {
        "id": "dde93d84"
      },
      "outputs": [],
      "source": [
        "#confusion matrix and classification report\n",
        "conf_matrix = confusion_matrix(targetsArr, predictionsArr)\n",
        "\n",
        "print(\"\\nClassification Report:\")\n",
        "print(classification_report(targetsArr, predictionsArr))\n",
        "#saves based on modality used\n",
        "if savingLabel == \"RGB\":\n",
        "    with open(os.path.join(saveResults, \"classificationReport_RGB.txt\"), \"w\") as f:\n",
        "        f.write(classification_report(targetsArr, predictionsArr))\n",
        "else:\n",
        "    with open(os.path.join(saveResults, \"classificationReport_Thermal.txt\"), \"w\") as f:\n",
        "        f.write(classification_report(targetsArr, predictionsArr))\n",
        "\n",
        "#visualisation of confusion matrix\n",
        "plt.figure(figsize=(8, 6))\n",
        "sns.heatmap(conf_matrix, annot=True, fmt=\"d\", xticklabels=classNames, yticklabels=classNames)\n",
        "plt.title(\"Confusion Matrix\")\n",
        "plt.xlabel(\"Predicted\")\n",
        "plt.ylabel(\"Actual\")\n",
        "#saves based on modality used\n",
        "if savingLabel == \"RGB\":\n",
        "    plt.savefig(os.path.join(saveResults, \"confusionMatrix_RGB.png\"))\n",
        "else:\n",
        "    plt.savefig(os.path.join(saveResults, \"confusionMatrix_Thermal.png\"))\n",
        "plt.show()"
      ]
    },
    {
      "cell_type": "code",
      "source": [
        "# MULTIMODAL\n",
        "#confusion matrix and classification report\n",
        "conf_matrix = confusion_matrix(targetsArr, predictionsArr)\n",
        "\n",
        "print(\"\\nClassification Report:\")\n",
        "print(classification_report(targetsArr, predictionsArr))\n",
        "#saves based on modality used\n",
        "if savingLabel == \"MultiModal_EarlyFusion\":\n",
        "    with open(os.path.join(saveResults, \"classificationReport_MultiModal_EarlyFusion.txt\"), \"w\") as f:\n",
        "        f.write(classification_report(targetsArr, predictionsArr))\n",
        "\n",
        "#visualisation of confusion matrix\n",
        "plt.figure(figsize=(8, 6))\n",
        "sns.heatmap(conf_matrix, annot=True, fmt=\"d\", xticklabels=classNames, yticklabels=classNames)\n",
        "plt.title(\"Confusion Matrix\")\n",
        "plt.xlabel(\"Predicted\")\n",
        "plt.ylabel(\"Actual\")\n",
        "#saves based on modality used\n",
        "if savingLabel == \"RGB\":\n",
        "    plt.savefig(os.path.join(saveResults, \"confusionMatrix_MultiModal_EarlyFusion.png\"))\n",
        "plt.show()"
      ],
      "metadata": {
        "id": "awSFgtCzwULG",
        "colab": {
          "base_uri": "https://localhost:8080/",
          "height": 850
        },
        "outputId": "2262dbf8-c9bb-4657-d7df-deb8037bd2ee"
      },
      "id": "awSFgtCzwULG",
      "execution_count": 22,
      "outputs": [
        {
          "output_type": "stream",
          "name": "stdout",
          "text": [
            "\n",
            "Classification Report:\n",
            "              precision    recall  f1-score   support\n",
            "\n",
            "           0       0.79      0.86      0.82      3895\n",
            "           1       0.85      0.85      0.85      1105\n",
            "           2       0.84      0.85      0.85      1730\n",
            "           3       0.84      0.77      0.80      6030\n",
            "           4       0.84      0.68      0.75       515\n",
            "           5       0.83      0.96      0.89      4410\n",
            "           6       0.82      0.69      0.75      2990\n",
            "\n",
            "    accuracy                           0.82     20675\n",
            "   macro avg       0.83      0.81      0.82     20675\n",
            "weighted avg       0.82      0.82      0.82     20675\n",
            "\n"
          ]
        },
        {
          "output_type": "display_data",
          "data": {
            "text/plain": [
              "<Figure size 800x600 with 2 Axes>"
            ],
            "image/png": "[encoded data removed]"
          },
          "metadata": {}
        }
      ]
    },
    {
      "cell_type": "code",
      "execution_count": null,
      "id": "7cef3dd9",
      "metadata": {
        "id": "7cef3dd9"
      },
      "outputs": [],
      "source": [
        "#visualising some images and their labels\n",
        "\n",
        "#true images and labels\n",
        "imagesPlot, labelsPlot = next(iter(train_loader))\n",
        "\n",
        "fig = plt.figure(figsize=(10, 8))\n",
        "for i in range(3*3):\n",
        "\n",
        "    ax = fig.add_subplot(3, 3, i+1)\n",
        "    ax.imshow(np.transpose(torchvision.utils.make_grid(imagesPlot[i].cpu(), normalize=True, padding=1).numpy(), (1, 2, 0)))\n",
        "    ax.set_title(classNames[labelsPlot[i]])\n",
        "    ax.axis('off')\n",
        "    plt.suptitle('Sample Training Images with True Labels',fontsize=14)\n",
        "plt.tight_layout()\n",
        "\n",
        "\n",
        "#predicted images and labels\n",
        "imagesPlotPred, labelsPlotPred = next(iter(test_loader))\n",
        "\n",
        "fig = plt.figure(figsize=(10, 8))\n",
        "for i in range(3*3):\n",
        "\n",
        "    ax = fig.add_subplot(3, 3, i+1)\n",
        "    ax.imshow(np.transpose(torchvision.utils.make_grid(imagesPlotPred[i].cpu(), normalize=True, padding=1).numpy(), (1, 2, 0)))\n",
        "\n",
        "    trueLabel = classNames[labelsPlotPred[i]]\n",
        "    predictedLabel = classNames[predicted[i]]\n",
        "\n",
        "    ax.set_title(f'True: {trueLabel}\\nPredicted: {predictedLabel}')\n",
        "    ax.axis(\"off\")\n",
        "    plt.suptitle('Sample Testing Images with True and Predicted Labels',fontsize=14)\n",
        "plt.tight_layout()"
      ]
    }
  ],
  "metadata": {
    "accelerator": "GPU",
    "colab": {
      "gpuType": "T4",
      "provenance": [],
      "machine_shape": "hm"
    },
    "kernelspec": {
      "display_name": "Python 3",
      "name": "python3"
    },
    "language_info": {
      "codemirror_mode": {
        "name": "ipython",
        "version": 3
      },
      "file_extension": ".py",
      "mimetype": "text/x-python",
      "name": "python",
      "nbconvert_exporter": "python",
      "pygments_lexer": "ipython3",
      "version": "3.12.8"
    }
  },
  "nbformat": 4,
  "nbformat_minor": 5
}