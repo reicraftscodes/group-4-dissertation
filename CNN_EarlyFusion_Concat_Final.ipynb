{
 "cells": [
  {
   "cell_type": "markdown",
   "id": "3492f02d",
   "metadata": {
    "id": "3492f02d"
   },
   "source": [
    "# CNN"
   ]
  },
  {
   "cell_type": "markdown",
   "id": "50a05e91",
   "metadata": {
    "id": "50a05e91"
   },
   "source": [
    "## 1. Imports"
   ]
  },
  {
   "cell_type": "markdown",
   "id": "1f08dfe4",
   "metadata": {
    "id": "1f08dfe4"
   },
   "source": [
    "### 1.1 Setup for Colab"
   ]
  },
  {
   "cell_type": "code",
   "execution_count": 4,
   "id": "8735bd29",
   "metadata": {
    "colab": {
     "base_uri": "https://localhost:8080/"
    },
    "id": "8735bd29",
    "outputId": "9adc9010-7032-4275-a544-128b2a6bdae5",
    "executionInfo": {
     "status": "ok",
     "timestamp": 1756551194298,
     "user_tz": -60,
     "elapsed": 21289,
     "user": {
      "displayName": "project",
      "userId": "14839823987823525724"
     }
    }
   },
   "outputs": [
    {
     "output_type": "stream",
     "name": "stdout",
     "text": [
      "Mounted at /content/drive\n"
     ]
    }
   ],
   "source": [
    "from google.colab import drive\n",
    "drive.mount('/content/drive')"
   ]
  },
  {
   "cell_type": "code",
   "execution_count": 25,
   "id": "1cb7284c",
   "metadata": {
    "colab": {
     "base_uri": "https://localhost:8080/"
    },
    "id": "1cb7284c",
    "outputId": "ad645a4c-05f6-469c-b21e-59e9c1217933",
    "executionInfo": {
     "status": "ok",
     "timestamp": 1756547073784,
     "user_tz": -60,
     "elapsed": 11,
     "user": {
      "displayName": "project",
      "userId": "14839823987823525724"
     }
    }
   },
   "outputs": [
    {
     "output_type": "stream",
     "name": "stdout",
     "text": [
      "/content/drive/MyDrive/data\n"
     ]
    }
   ],
   "source": [
    " cd /content/drive/MyDrive/data"
   ]
  },
  {
   "cell_type": "code",
   "execution_count": 26,
   "id": "248c4e23",
   "metadata": {
    "colab": {
     "base_uri": "https://localhost:8080/"
    },
    "id": "248c4e23",
    "outputId": "69af9e30-4b26-4398-b4fb-90cb455a8d3c",
    "executionInfo": {
     "status": "ok",
     "timestamp": 1756547074907,
     "user_tz": -60,
     "elapsed": 112,
     "user": {
      "displayName": "project",
      "userId": "14839823987823525724"
     }
    }
   },
   "outputs": [
    {
     "output_type": "stream",
     "name": "stdout",
     "text": [
      "\u001B[0m\u001B[01;34mbackup_removed_files\u001B[0m/        \u001B[01;34mRGB\u001B[0m/     \u001B[01;34mThermal\u001B[0m/     \u001B[01;34mtrainingResults\u001B[0m/\n",
      "CNN_EarlyFusion_Final.ipynb  \u001B[01;34mRgbAug\u001B[0m/  \u001B[01;34mThermalAug\u001B[0m/  \u001B[01;34mwandb\u001B[0m/\n"
     ]
    }
   ],
   "source": [
    "ls"
   ]
  },
  {
   "cell_type": "markdown",
   "id": "19969f74",
   "metadata": {
    "id": "19969f74"
   },
   "source": [
    "### 1.2 Install Depedencies"
   ]
  },
  {
   "cell_type": "code",
   "execution_count": 27,
   "id": "7f8586dd",
   "metadata": {
    "id": "7f8586dd",
    "executionInfo": {
     "status": "ok",
     "timestamp": 1756547076314,
     "user_tz": -60,
     "elapsed": 4,
     "user": {
      "displayName": "project",
      "userId": "14839823987823525724"
     }
    }
   },
   "outputs": [],
   "source": [
    "#install dependencies\n",
    "# !pip install -r requirements.txt"
   ]
  },
  {
   "cell_type": "markdown",
   "source": [],
   "metadata": {
    "id": "3iIKdjEis3FO"
   },
   "id": "3iIKdjEis3FO"
  },
  {
   "cell_type": "code",
   "execution_count": 28,
   "id": "aefa7ebc",
   "metadata": {
    "id": "aefa7ebc",
    "executionInfo": {
     "status": "ok",
     "timestamp": 1756547077616,
     "user_tz": -60,
     "elapsed": 17,
     "user": {
      "displayName": "project",
      "userId": "14839823987823525724"
     }
    }
   },
   "outputs": [],
   "source": [
    "import os\n",
    "import copy\n",
    "import glob\n",
    "from sklearn.model_selection import train_test_split\n",
    "from sklearn import preprocessing\n",
    "from tqdm import tqdm\n",
    "from PIL import Image\n",
    "import torch\n",
    "import torch.nn as nn\n",
    "from torch.utils.data import DataLoader, Dataset\n",
    "import torchvision\n",
    "from torchvision import transforms,models\n",
    "from torchvision.models import shufflenet_v2_x1_0, ShuffleNet_V2_X1_0_Weights\n",
    "import matplotlib.pyplot as plt\n",
    "from sklearn.metrics import confusion_matrix, classification_report\n",
    "import numpy as np\n",
    "import seaborn as sns\n",
    "import pandas as pd\n",
    "import wandb\n",
    "import time\n",
    "from datetime import datetime"
   ]
  },
  {
   "cell_type": "markdown",
   "id": "99f7f641",
   "metadata": {
    "id": "99f7f641"
   },
   "source": [
    "### 1.2 Global Variables"
   ]
  },
  {
   "cell_type": "code",
   "execution_count": 29,
   "id": "43a55e95",
   "metadata": {
    "id": "43a55e95",
    "executionInfo": {
     "status": "ok",
     "timestamp": 1756547078986,
     "user_tz": -60,
     "elapsed": 4,
     "user": {
      "displayName": "project",
      "userId": "14839823987823525724"
     }
    }
   },
   "outputs": [],
   "source": [
    "EPOCHS = 30\n",
    "CLASSES = 7\n",
    "BATCH_SIZE = 64\n",
    "NUM_WORKERS = 4 # change based on specification of computer\n",
    "LEARNING_RATE = 0.001"
   ]
  },
  {
   "cell_type": "code",
   "source": [
    "wandb.init(\n",
    "    project=\"multimodal_cnn\",\n",
    "    name=\"early_fusion_cnn\",\n",
    "    mode=\"offline\",\n",
    "    config={\n",
    "        \"epochs\": EPOCHS,\n",
    "        \"batch_size\": BATCH_SIZE,\n",
    "        \"learning_rate\": LEARNING_RATE,\n",
    "        \"model\": \"CNN Early Fusion\",\n",
    "        \"fusion_type\": \"addition\"\n",
    "    }\n",
    ")"
   ],
   "metadata": {
    "colab": {
     "base_uri": "https://localhost:8080/",
     "height": 176
    },
    "id": "Hhr_67IJzxfy",
    "outputId": "62f809a5-fd40-4591-bf9d-2cf9081eb734",
    "executionInfo": {
     "status": "ok",
     "timestamp": 1756547384041,
     "user_tz": -60,
     "elapsed": 1305,
     "user": {
      "displayName": "project",
      "userId": "14839823987823525724"
     }
    }
   },
   "id": "Hhr_67IJzxfy",
   "execution_count": 41,
   "outputs": [
    {
     "output_type": "display_data",
     "data": {
      "text/plain": [
       "<IPython.core.display.HTML object>"
      ],
      "text/html": [
       "Finishing previous runs because reinit is set to 'default'."
      ]
     },
     "metadata": {}
    },
    {
     "output_type": "display_data",
     "data": {
      "text/plain": [
       "<IPython.core.display.HTML object>"
      ],
      "text/html": []
     },
     "metadata": {}
    },
    {
     "output_type": "display_data",
     "data": {
      "text/plain": [
       "<IPython.core.display.HTML object>"
      ],
      "text/html": [
       " View run <strong style=\"color:#cdcd00\">early_fusion_cnn</strong> at: <a href='https://wandb.ai/reicraftscodes-university-of-the-west-of-england/multimodal_cnn/runs/hdm5yj4a' target=\"_blank\">https://wandb.ai/reicraftscodes-university-of-the-west-of-england/multimodal_cnn/runs/hdm5yj4a</a><br> View project at: <a href='https://wandb.ai/reicraftscodes-university-of-the-west-of-england/multimodal_cnn' target=\"_blank\">https://wandb.ai/reicraftscodes-university-of-the-west-of-england/multimodal_cnn</a><br>Synced 5 W&B file(s), 0 media file(s), 0 artifact file(s) and 0 other file(s)"
      ]
     },
     "metadata": {}
    },
    {
     "output_type": "display_data",
     "data": {
      "text/plain": [
       "<IPython.core.display.HTML object>"
      ],
      "text/html": [
       "Find logs at: <code>./wandb/run-20250830_094500-hdm5yj4a/logs</code>"
      ]
     },
     "metadata": {}
    },
    {
     "output_type": "display_data",
     "data": {
      "text/plain": [
       "<IPython.core.display.HTML object>"
      ],
      "text/html": [
       "Tracking run with wandb version 0.21.1"
      ]
     },
     "metadata": {}
    },
    {
     "output_type": "display_data",
     "data": {
      "text/plain": [
       "<IPython.core.display.HTML object>"
      ],
      "text/html": [
       "W&B syncing is set to <code>`offline`<code> in this directory. Run <code>`wandb online`<code> or set <code>WANDB_MODE=online<code> to enable cloud syncing.<br>Run data is saved locally in <code>/content/drive/MyDrive/data/wandb/offline-run-20250830_094941-dndl40p5</code>"
      ]
     },
     "metadata": {}
    },
    {
     "output_type": "execute_result",
     "data": {
      "text/html": [
       "<button onClick=\"this.nextSibling.style.display='block';this.style.display='none';\">Display W&B run</button><iframe src='?jupyter=true' style='border:none;width:100%;height:420px;display:none;'></iframe>"
      ],
      "text/plain": [
       "<wandb.sdk.wandb_run.Run at 0x7be82bf8eff0>"
      ]
     },
     "metadata": {},
     "execution_count": 41
    }
   ]
  },
  {
   "cell_type": "markdown",
   "id": "f042cc2b",
   "metadata": {
    "id": "f042cc2b"
   },
   "source": [
    "## 2. Load Data and Split"
   ]
  },
  {
   "cell_type": "code",
   "execution_count": 32,
   "id": "69fef938",
   "metadata": {
    "id": "69fef938",
    "executionInfo": {
     "status": "ok",
     "timestamp": 1756547106308,
     "user_tz": -60,
     "elapsed": 6,
     "user": {
      "displayName": "project",
      "userId": "14839823987823525724"
     }
    }
   },
   "outputs": [],
   "source": [
    "#directories\n",
    "rgbDir = ['RGB','RgbAug']\n",
    "thermalDir = ['Thermal','ThermalAug']"
   ]
  },
  {
   "cell_type": "markdown",
   "id": "4fa2bf36",
   "metadata": {
    "id": "4fa2bf36"
   },
   "source": [
    "### 2.1 Single Modality"
   ]
  },
  {
   "cell_type": "code",
   "execution_count": 33,
   "id": "5a80eed3",
   "metadata": {
    "id": "5a80eed3",
    "colab": {
     "base_uri": "https://localhost:8080/"
    },
    "outputId": "10624ac2-165c-4e31-b38a-91e184752166",
    "executionInfo": {
     "status": "ok",
     "timestamp": 1756547109900,
     "user_tz": -60,
     "elapsed": 494,
     "user": {
      "displayName": "project",
      "userId": "14839823987823525724"
     }
    }
   },
   "outputs": [
    {
     "output_type": "stream",
     "name": "stdout",
     "text": [
      "Total files: 20675\n",
      "Data arranged as: tensor([0, 0, 0,  ..., 6, 6, 6])\n",
      "\n",
      "Sample output:\n",
      "File: RGB/R_Angry_10_KTFE.jpg\n",
      "Label: Angry\n",
      "\n"
     ]
    }
   ],
   "source": [
    "def loadDataSingleModality(modalDir):\n",
    "    '''\n",
    "    Loads and processes data from a single modality (either RGB or Thermal).\n",
    "    Args:\n",
    "        modalDir (list): List containing two directory paths - first for raw images, second for augmented images.\n",
    "    Returns:\n",
    "        pairedFiles (list): List of all image file paths.\n",
    "        tensorLabels (torch.Tensor): Tensor of integer-encoded labels corresponding to the images.\n",
    "    '''\n",
    "\n",
    "    #get list of files in the directory and combine them\n",
    "    pairedFiles = []\n",
    "    for data in modalDir:\n",
    "        pairedFiles.extend(glob.glob(os.path.join(data, \"*\")))\n",
    "    pairedFiles = sorted(pairedFiles)\n",
    "\n",
    "    print(f'Total files: {len(pairedFiles)}')\n",
    "\n",
    "\n",
    "    #get the labels from the filenames\n",
    "    SMLabels = [os.path.basename(f).split('_')[1] for f in pairedFiles] #1 = emotion label\n",
    "\n",
    "    #convert labels to integer\n",
    "    le = preprocessing.LabelEncoder()\n",
    "    intLabels = le.fit_transform(SMLabels)\n",
    "    #convert targets to tensor\n",
    "    tensorLabels = torch.as_tensor(intLabels)\n",
    "    #class names\n",
    "    classNames = le.classes_\n",
    "\n",
    "    print(f'Data arranged as: {tensorLabels}')\n",
    "    print(f'\\nSample output:\\nFile: {pairedFiles[0]}\\nLabel: {SMLabels[0]}\\n')\n",
    "\n",
    "    return pairedFiles, tensorLabels, classNames\n",
    "\n",
    "\n",
    "## For single modality testing (using raw and augmented data together)\n",
    "\n",
    "#change this to test either thermal or rgb\n",
    "modalDir = rgbDir\n",
    "\n",
    "#Call function to load data\n",
    "pairedFiles, tensorLabels, classNames = loadDataSingleModality(modalDir)\n",
    "\n",
    "#for saving results later\n",
    "if modalDir == rgbDir:\n",
    "    savingLabel = \"RGB\"\n",
    "else:\n",
    "    savingLabel = \"Thermal\""
   ]
  },
  {
   "cell_type": "markdown",
   "id": "7ef46b5a",
   "metadata": {
    "id": "7ef46b5a"
   },
   "source": [
    "### 2.2 Multi Modality"
   ]
  },
  {
   "cell_type": "code",
   "execution_count": 34,
   "id": "c14ebc3f",
   "metadata": {
    "colab": {
     "base_uri": "https://localhost:8080/"
    },
    "id": "c14ebc3f",
    "outputId": "defdb194-7aae-4639-b0cb-a13a9eaee114",
    "executionInfo": {
     "status": "ok",
     "timestamp": 1756547112754,
     "user_tz": -60,
     "elapsed": 913,
     "user": {
      "displayName": "project",
      "userId": "14839823987823525724"
     }
    }
   },
   "outputs": [
    {
     "output_type": "stream",
     "name": "stdout",
     "text": [
      "Total pairs: 20675\n",
      "Data arranged as: tensor([5, 5, 5,  ..., 0, 0, 0])\n",
      "\n",
      "Sample output:\n",
      "File: ('RGB/R_Sad_2002_KTFE.jpg', 'Thermal/T_Sad_2117_KTFE.jpg')\n",
      "Label: Sad\n",
      "\n"
     ]
    }
   ],
   "source": [
    "def loadDataMultiModality(rgbDir,thermalDir):\n",
    "    '''\n",
    "    Loads and processes data from both RGB and Thermal modalities.\n",
    "    Args:\n",
    "        rgbDir (list): List containing two directory paths for RGB images - first for raw images, second for augmented images.\n",
    "        thermalDir (list): List containing two directory paths for Thermal images - first for raw images, second for augmented images.\n",
    "    Returns:\n",
    "        pairedFiles (list): List of tuples, each containing a pair of (RGB image path, Thermal image path).\n",
    "        tensorLabels (torch.Tensor): Tensor of integer-encoded labels corresponding to the images.\n",
    "    '''\n",
    "\n",
    "\n",
    "    #get list of files in the directory and combine them\n",
    "    rgbFiles = []\n",
    "    thermalFiles = []\n",
    "    for data in rgbDir:\n",
    "        rgbFiles.extend(glob.glob(os.path.join(data, \"*\")))\n",
    "    for data in thermalDir:\n",
    "        thermalFiles.extend(glob.glob(os.path.join(data, \"*\")))\n",
    "\n",
    "    #pairs thermal and rgb files together\n",
    "    pairedFiles = list(zip(rgbFiles, thermalFiles))\n",
    "    print(f\"Total pairs: {len(pairedFiles)}\")\n",
    "\n",
    "    #get the labels from the filenames\n",
    "    SMLabels = [os.path.basename(f).split('_')[1] for f in thermalFiles] #1 = emotion label\n",
    "\n",
    "    #convert labels to integer\n",
    "    le = preprocessing.LabelEncoder()\n",
    "    intLabels = le.fit_transform(SMLabels)\n",
    "\n",
    "    #convert targets to tensor\n",
    "    tensorLabels = torch.as_tensor(intLabels)\n",
    "\n",
    "    #class names\n",
    "    classNames = le.classes_\n",
    "\n",
    "    print(f'Data arranged as: {tensorLabels}')\n",
    "    print(f'\\nSample output:\\nFile: {pairedFiles[0]}\\nLabel: {SMLabels[0]}\\n')\n",
    "\n",
    "    return pairedFiles, tensorLabels, classNames\n",
    "\n",
    "\n",
    "## For multi modality testing (using raw and augmented data together)\n",
    "\n",
    "#Call function to load data\n",
    "pairedFiles, tensorLabels, classNames = loadDataMultiModality(rgbDir,thermalDir)\n"
   ]
  },
  {
   "cell_type": "markdown",
   "id": "ce1eae48",
   "metadata": {
    "id": "ce1eae48"
   },
   "source": [
    "### 2.3 Split Data\n",
    "- 80:20"
   ]
  },
  {
   "cell_type": "code",
   "execution_count": 35,
   "id": "2a573e30",
   "metadata": {
    "id": "2a573e30",
    "colab": {
     "base_uri": "https://localhost:8080/"
    },
    "outputId": "950bbc29-6ba1-41bf-e6b6-815566861b54",
    "executionInfo": {
     "status": "ok",
     "timestamp": 1756547114720,
     "user_tz": -60,
     "elapsed": 19,
     "user": {
      "displayName": "project",
      "userId": "14839823987823525724"
     }
    }
   },
   "outputs": [
    {
     "output_type": "stream",
     "name": "stdout",
     "text": [
      "Train size: 16540\n",
      "Test size: 4135\n"
     ]
    }
   ],
   "source": [
    "\n",
    "#Split Data\n",
    "X_train, X_test, y_train, y_test = train_test_split(\n",
    "    pairedFiles, tensorLabels,\n",
    "    test_size=0.2,\n",
    "    stratify=tensorLabels,\n",
    "    random_state=42\n",
    ")\n",
    "print(f'Train size: {len(X_train)}\\nTest size: {len(X_test)}')"
   ]
  },
  {
   "cell_type": "code",
   "execution_count": 36,
   "id": "67063f12",
   "metadata": {
    "id": "67063f12",
    "executionInfo": {
     "status": "ok",
     "timestamp": 1756547116038,
     "user_tz": -60,
     "elapsed": 6,
     "user": {
      "displayName": "project",
      "userId": "14839823987823525724"
     }
    }
   },
   "outputs": [],
   "source": [
    "transform = transforms.Compose([\n",
    "    transforms.Resize((224, 224)),\n",
    "    transforms.ToTensor(),\n",
    "     transforms.Normalize(mean=[0.485, 0.456, 0.406],\n",
    "                         std=[0.229, 0.224, 0.225])\n",
    "])"
   ]
  },
  {
   "cell_type": "markdown",
   "id": "40a72e60",
   "metadata": {
    "id": "40a72e60"
   },
   "source": [
    "## 3. DataLoader"
   ]
  },
  {
   "cell_type": "markdown",
   "id": "9bb67f53",
   "metadata": {
    "id": "9bb67f53"
   },
   "source": [
    "### 3.1 Single Modality"
   ]
  },
  {
   "cell_type": "code",
   "execution_count": 37,
   "id": "4e424a8d",
   "metadata": {
    "id": "4e424a8d",
    "executionInfo": {
     "status": "ok",
     "timestamp": 1756547117906,
     "user_tz": -60,
     "elapsed": 7,
     "user": {
      "displayName": "project",
      "userId": "14839823987823525724"
     }
    }
   },
   "outputs": [],
   "source": [
    "class SingleModalImageDataset(Dataset):\n",
    "    def __init__(self, pairedFiles, labels, transform=None):\n",
    "        #initialise\n",
    "        self.pairedFiles = pairedFiles\n",
    "        self.labels = labels\n",
    "        self.transform = transform\n",
    "\n",
    "    def __len__(self):\n",
    "        #return the length of the dataset\n",
    "        return len(self.pairedFiles)\n",
    "\n",
    "    def __getitem__(self, idx):\n",
    "        #generates samples\n",
    "        imagePath = self.pairedFiles[idx]\n",
    "        image = Image.open(imagePath).convert('RGB')\n",
    "\n",
    "        if self.transform:\n",
    "            image = self.transform(image)\n",
    "\n",
    "        label = self.labels[idx]\n",
    "        return image, label\n",
    "\n",
    "\n",
    "train_dataset = SingleModalImageDataset(X_train, y_train, transform=transform)\n",
    "test_dataset = SingleModalImageDataset(X_test, y_test, transform=transform)"
   ]
  },
  {
   "cell_type": "markdown",
   "id": "2151af09",
   "metadata": {
    "id": "2151af09"
   },
   "source": [
    "### 3.2 Multi Modality"
   ]
  },
  {
   "cell_type": "code",
   "execution_count": 38,
   "id": "1b1bab7c",
   "metadata": {
    "id": "1b1bab7c",
    "executionInfo": {
     "status": "ok",
     "timestamp": 1756547119748,
     "user_tz": -60,
     "elapsed": 8,
     "user": {
      "displayName": "project",
      "userId": "14839823987823525724"
     }
    }
   },
   "outputs": [],
   "source": [
    "class MultiModalImageDataset(Dataset):\n",
    "    def __init__(self, pairedFiles, labels, transform=None):\n",
    "        #initialise\n",
    "        self.pairedFiles = pairedFiles\n",
    "        self.labels = labels\n",
    "        self.transform = transform\n",
    "\n",
    "    def __len__(self):\n",
    "        #return the length of the dataset\n",
    "        return len(self.pairedFiles)\n",
    "\n",
    "    def __getitem__(self, idx):\n",
    "        #generates samples\n",
    "        rgbPath,thermalPath  = self.pairedFiles[idx]\n",
    "        rgb = Image.open(rgbPath).convert('RGB')\n",
    "        thermal = Image.open(thermalPath).convert('RGB') #try L greyscale\n",
    "\n",
    "        if self.transform:\n",
    "            rgb = self.transform(rgb)\n",
    "            thermal = self.transform(thermal)\n",
    "\n",
    "        label = self.labels[idx]\n",
    "        return (rgb,thermal),label\n",
    "\n",
    "train_dataset = MultiModalImageDataset(X_train, y_train, transform=transform)\n",
    "test_dataset = MultiModalImageDataset(X_test, y_test, transform=transform)"
   ]
  },
  {
   "cell_type": "markdown",
   "id": "52bfef92",
   "metadata": {
    "id": "52bfef92"
   },
   "source": [
    "### 3.3 Train and Test Loader"
   ]
  },
  {
   "cell_type": "code",
   "execution_count": 39,
   "id": "beb67bef",
   "metadata": {
    "id": "beb67bef",
    "executionInfo": {
     "status": "ok",
     "timestamp": 1756547121469,
     "user_tz": -60,
     "elapsed": 6,
     "user": {
      "displayName": "project",
      "userId": "14839823987823525724"
     }
    }
   },
   "outputs": [],
   "source": [
    "train_loader = DataLoader(train_dataset, batch_size=BATCH_SIZE, shuffle=True,num_workers=NUM_WORKERS)\n",
    "test_loader = DataLoader(test_dataset, batch_size=BATCH_SIZE, shuffle=False,num_workers=NUM_WORKERS)"
   ]
  },
  {
   "cell_type": "markdown",
   "id": "CFtn9xCdIXUG",
   "metadata": {
    "id": "CFtn9xCdIXUG"
   },
   "source": [
    "## 4. ShuffleNet V.2"
   ]
  },
  {
   "cell_type": "markdown",
   "id": "45c25d06",
   "metadata": {
    "id": "45c25d06"
   },
   "source": [
    "### 4.1 Single Modality"
   ]
  },
  {
   "cell_type": "code",
   "execution_count": null,
   "id": "e1ad44c0",
   "metadata": {
    "id": "e1ad44c0"
   },
   "outputs": [],
   "source": [
    "#device configuration\n",
    "device = \"cuda\" if torch.cuda.is_available() else \"cpu\"\n",
    "\n",
    "#initialise model\n",
    "model = models.shufflenet_v2_x1_0(weights=ShuffleNet_V2_X1_0_Weights.DEFAULT)\n",
    "model.fc = nn.Linear(model.fc.in_features, CLASSES)\n",
    "model.to(device)\n",
    "\n",
    "#loss function and optimiser\n",
    "criterion = torch.nn.CrossEntropyLoss()\n",
    "optimiser = torch.optim.Adam(model.parameters(),lr=LEARNING_RATE)\n",
    "\n",
    "#to collect data for plotting later\n",
    "trainLosses = []\n",
    "testAccuracies = []\n",
    "predictionsArr = []\n",
    "targetsArr = []\n",
    "\n",
    "##Training\n",
    "for epoch in range(EPOCHS):\n",
    "    model.train()\n",
    "    runningTrain = 0\n",
    "    #progress bar\n",
    "    for x, y in tqdm(train_loader, desc=f\"Epoch {epoch+1} Training\"):\n",
    "        x, y = x.to(device), y.to(device)\n",
    "        optimiser.zero_grad()\n",
    "        loss = criterion(model(x), y)\n",
    "        loss.backward()\n",
    "        optimiser.step()\n",
    "        #batch loss calculation\n",
    "        runningTrain += loss.item() * x.size(0)\n",
    "    trainLoss = runningTrain / len(train_loader.dataset)\n",
    "\n",
    "    ##Evaluation\n",
    "    model.eval()\n",
    "    accPre = 0\n",
    "    totalDatapoints = 0\n",
    "    #progress bar\n",
    "    for input, target in tqdm(test_loader, desc=f\"Epoch {epoch+1} Evaluating\"):\n",
    "        input, target = input.to(device), target.to(device)\n",
    "        with torch.no_grad():\n",
    "            outputs = model(input)\n",
    "            #accuracy calculation\n",
    "            predicted = outputs.argmax(1)\n",
    "\n",
    "            #https://medium.com/@heyamit10/building-a-multiclass-classification-model-in-pytorch-a-detailed-practical-guide-b03fc93aa400\n",
    "            predictionsArr.extend(predicted.cpu().numpy())\n",
    "            targetsArr.extend(target.cpu().numpy())\n",
    "\n",
    "            accPre += (predicted == target).sum().item()\n",
    "            totalDatapoints += target.size(0)\n",
    "    finalAcc = accPre / totalDatapoints\n",
    "\n",
    "    trainLosses.append(trainLoss)\n",
    "    testAccuracies.append(finalAcc)\n",
    "\n",
    "\n",
    "    #prints each epoch's results\n",
    "    print(f\"Epoch {epoch+1}: Train Loss = {trainLoss:.4f}, Test Accuracy = {finalAcc:.4f}\")\n"
   ]
  },
  {
   "cell_type": "markdown",
   "id": "1adef83a",
   "metadata": {
    "id": "1adef83a"
   },
   "source": [
    "### 4.2 Multi Modality"
   ]
  },
  {
   "cell_type": "code",
   "execution_count": 43,
   "id": "3387f7d8",
   "metadata": {
    "id": "3387f7d8",
    "colab": {
     "base_uri": "https://localhost:8080/",
     "height": 1000
    },
    "outputId": "d403af05-caaf-4495-cb77-ffda776cb271",
    "executionInfo": {
     "status": "ok",
     "timestamp": 1756550120124,
     "user_tz": -60,
     "elapsed": 2695279,
     "user": {
      "displayName": "project",
      "userId": "14839823987823525724"
     }
    }
   },
   "outputs": [
    {
     "output_type": "stream",
     "name": "stdout",
     "text": [
      "Starting training...\n",
      "Training started at: 2025-08-30 09:50:23\n"
     ]
    },
    {
     "output_type": "stream",
     "name": "stderr",
     "text": [
      "Epoch 1 Training: 100%|██████████| 259/259 [01:09<00:00,  3.70it/s]\n",
      "Epoch 1 Evaluating: 100%|██████████| 65/65 [00:17<00:00,  3.68it/s]\n"
     ]
    },
    {
     "output_type": "stream",
     "name": "stdout",
     "text": [
      "Epoch 1: Train Loss = 1.0136, Test Accuracy = 0.7311, Epoch Time = 1.46 min, Total Time = 1.46 min\n"
     ]
    },
    {
     "output_type": "stream",
     "name": "stderr",
     "text": [
      "Epoch 2 Training: 100%|██████████| 259/259 [01:10<00:00,  3.67it/s]\n",
      "Epoch 2 Evaluating: 100%|██████████| 65/65 [00:17<00:00,  3.67it/s]\n"
     ]
    },
    {
     "output_type": "stream",
     "name": "stdout",
     "text": [
      "Epoch 2: Train Loss = 0.4569, Test Accuracy = 0.8428, Epoch Time = 1.47 min, Total Time = 2.93 min\n"
     ]
    },
    {
     "output_type": "stream",
     "name": "stderr",
     "text": [
      "Epoch 3 Training: 100%|██████████| 259/259 [01:10<00:00,  3.66it/s]\n",
      "Epoch 3 Evaluating: 100%|██████████| 65/65 [00:17<00:00,  3.67it/s]\n"
     ]
    },
    {
     "output_type": "stream",
     "name": "stdout",
     "text": [
      "Epoch 3: Train Loss = 0.2642, Test Accuracy = 0.8537, Epoch Time = 1.48 min, Total Time = 4.41 min\n"
     ]
    },
    {
     "output_type": "stream",
     "name": "stderr",
     "text": [
      "Epoch 4 Training: 100%|██████████| 259/259 [01:09<00:00,  3.71it/s]\n",
      "Epoch 4 Evaluating: 100%|██████████| 65/65 [00:18<00:00,  3.54it/s]\n"
     ]
    },
    {
     "output_type": "stream",
     "name": "stdout",
     "text": [
      "Epoch 4: Train Loss = 0.1927, Test Accuracy = 0.8815, Epoch Time = 1.47 min, Total Time = 5.88 min\n"
     ]
    },
    {
     "output_type": "stream",
     "name": "stderr",
     "text": [
      "Epoch 5 Training: 100%|██████████| 259/259 [01:10<00:00,  3.69it/s]\n",
      "Epoch 5 Evaluating: 100%|██████████| 65/65 [00:17<00:00,  3.70it/s]\n"
     ]
    },
    {
     "output_type": "stream",
     "name": "stdout",
     "text": [
      "Epoch 5: Train Loss = 0.1289, Test Accuracy = 0.8909, Epoch Time = 1.46 min, Total Time = 7.34 min\n"
     ]
    },
    {
     "output_type": "stream",
     "name": "stderr",
     "text": [
      "Epoch 6 Training: 100%|██████████| 259/259 [01:10<00:00,  3.67it/s]\n",
      "Epoch 6 Evaluating: 100%|██████████| 65/65 [00:18<00:00,  3.52it/s]\n"
     ]
    },
    {
     "output_type": "stream",
     "name": "stdout",
     "text": [
      "Epoch 6: Train Loss = 0.0988, Test Accuracy = 0.8803, Epoch Time = 1.48 min, Total Time = 8.82 min\n"
     ]
    },
    {
     "output_type": "stream",
     "name": "stderr",
     "text": [
      "Epoch 7 Training: 100%|██████████| 259/259 [01:11<00:00,  3.62it/s]\n",
      "Epoch 7 Evaluating: 100%|██████████| 65/65 [00:18<00:00,  3.57it/s]\n"
     ]
    },
    {
     "output_type": "stream",
     "name": "stdout",
     "text": [
      "Epoch 7: Train Loss = 0.0906, Test Accuracy = 0.8895, Epoch Time = 1.50 min, Total Time = 10.32 min\n"
     ]
    },
    {
     "output_type": "stream",
     "name": "stderr",
     "text": [
      "Epoch 8 Training: 100%|██████████| 259/259 [01:11<00:00,  3.64it/s]\n",
      "Epoch 8 Evaluating: 100%|██████████| 65/65 [00:17<00:00,  3.63it/s]\n"
     ]
    },
    {
     "output_type": "stream",
     "name": "stdout",
     "text": [
      "Epoch 8: Train Loss = 0.0769, Test Accuracy = 0.9134, Epoch Time = 1.48 min, Total Time = 11.80 min\n"
     ]
    },
    {
     "output_type": "stream",
     "name": "stderr",
     "text": [
      "Epoch 9 Training: 100%|██████████| 259/259 [01:10<00:00,  3.67it/s]\n",
      "Epoch 9 Evaluating: 100%|██████████| 65/65 [00:17<00:00,  3.74it/s]\n"
     ]
    },
    {
     "output_type": "stream",
     "name": "stdout",
     "text": [
      "Epoch 9: Train Loss = 0.0651, Test Accuracy = 0.8774, Epoch Time = 1.47 min, Total Time = 13.27 min\n"
     ]
    },
    {
     "output_type": "stream",
     "name": "stderr",
     "text": [
      "Epoch 10 Training: 100%|██████████| 259/259 [01:10<00:00,  3.70it/s]\n",
      "Epoch 10 Evaluating: 100%|██████████| 65/65 [00:17<00:00,  3.69it/s]\n"
     ]
    },
    {
     "output_type": "stream",
     "name": "stdout",
     "text": [
      "Epoch 10: Train Loss = 0.0623, Test Accuracy = 0.9226, Epoch Time = 1.46 min, Total Time = 14.73 min\n"
     ]
    },
    {
     "output_type": "stream",
     "name": "stderr",
     "text": [
      "Epoch 11 Training: 100%|██████████| 259/259 [01:10<00:00,  3.65it/s]\n",
      "Epoch 11 Evaluating: 100%|██████████| 65/65 [00:17<00:00,  3.66it/s]\n"
     ]
    },
    {
     "output_type": "stream",
     "name": "stdout",
     "text": [
      "Epoch 11: Train Loss = 0.0479, Test Accuracy = 0.9224, Epoch Time = 1.48 min, Total Time = 16.21 min\n"
     ]
    },
    {
     "output_type": "stream",
     "name": "stderr",
     "text": [
      "Epoch 12 Training: 100%|██████████| 259/259 [01:10<00:00,  3.68it/s]\n",
      "Epoch 12 Evaluating: 100%|██████████| 65/65 [00:17<00:00,  3.66it/s]\n"
     ]
    },
    {
     "output_type": "stream",
     "name": "stdout",
     "text": [
      "Epoch 12: Train Loss = 0.0540, Test Accuracy = 0.8854, Epoch Time = 1.47 min, Total Time = 17.68 min\n"
     ]
    },
    {
     "output_type": "stream",
     "name": "stderr",
     "text": [
      "Epoch 13 Training: 100%|██████████| 259/259 [01:10<00:00,  3.65it/s]\n",
      "Epoch 13 Evaluating: 100%|██████████| 65/65 [00:18<00:00,  3.58it/s]\n"
     ]
    },
    {
     "output_type": "stream",
     "name": "stdout",
     "text": [
      "Epoch 13: Train Loss = 0.0449, Test Accuracy = 0.9267, Epoch Time = 1.49 min, Total Time = 19.16 min\n"
     ]
    },
    {
     "output_type": "stream",
     "name": "stderr",
     "text": [
      "Epoch 14 Training: 100%|██████████| 259/259 [01:11<00:00,  3.64it/s]\n",
      "Epoch 14 Evaluating: 100%|██████████| 65/65 [00:18<00:00,  3.60it/s]\n"
     ]
    },
    {
     "output_type": "stream",
     "name": "stdout",
     "text": [
      "Epoch 14: Train Loss = 0.0334, Test Accuracy = 0.9241, Epoch Time = 1.49 min, Total Time = 20.65 min\n"
     ]
    },
    {
     "output_type": "stream",
     "name": "stderr",
     "text": [
      "Epoch 15 Training: 100%|██████████| 259/259 [01:11<00:00,  3.65it/s]\n",
      "Epoch 15 Evaluating: 100%|██████████| 65/65 [00:18<00:00,  3.59it/s]\n"
     ]
    },
    {
     "output_type": "stream",
     "name": "stdout",
     "text": [
      "Epoch 15: Train Loss = 0.0416, Test Accuracy = 0.9289, Epoch Time = 1.49 min, Total Time = 22.14 min\n"
     ]
    },
    {
     "output_type": "stream",
     "name": "stderr",
     "text": [
      "Epoch 16 Training: 100%|██████████| 259/259 [01:11<00:00,  3.63it/s]\n",
      "Epoch 16 Evaluating: 100%|██████████| 65/65 [00:18<00:00,  3.50it/s]\n"
     ]
    },
    {
     "output_type": "stream",
     "name": "stdout",
     "text": [
      "Epoch 16: Train Loss = 0.0487, Test Accuracy = 0.9146, Epoch Time = 1.50 min, Total Time = 23.63 min\n"
     ]
    },
    {
     "output_type": "stream",
     "name": "stderr",
     "text": [
      "Epoch 17 Training: 100%|██████████| 259/259 [01:13<00:00,  3.52it/s]\n",
      "Epoch 17 Evaluating: 100%|██████████| 65/65 [00:18<00:00,  3.48it/s]\n"
     ]
    },
    {
     "output_type": "stream",
     "name": "stdout",
     "text": [
      "Epoch 17: Train Loss = 0.0378, Test Accuracy = 0.8817, Epoch Time = 1.54 min, Total Time = 25.17 min\n"
     ]
    },
    {
     "output_type": "stream",
     "name": "stderr",
     "text": [
      "Epoch 18 Training: 100%|██████████| 259/259 [01:13<00:00,  3.53it/s]\n",
      "Epoch 18 Evaluating: 100%|██████████| 65/65 [00:18<00:00,  3.52it/s]\n"
     ]
    },
    {
     "output_type": "stream",
     "name": "stdout",
     "text": [
      "Epoch 18: Train Loss = 0.0387, Test Accuracy = 0.9035, Epoch Time = 1.53 min, Total Time = 26.70 min\n"
     ]
    },
    {
     "output_type": "stream",
     "name": "stderr",
     "text": [
      "Epoch 19 Training: 100%|██████████| 259/259 [01:11<00:00,  3.64it/s]\n",
      "Epoch 19 Evaluating: 100%|██████████| 65/65 [00:18<00:00,  3.48it/s]\n"
     ]
    },
    {
     "output_type": "stream",
     "name": "stdout",
     "text": [
      "Epoch 19: Train Loss = 0.0388, Test Accuracy = 0.9267, Epoch Time = 1.50 min, Total Time = 28.20 min\n"
     ]
    },
    {
     "output_type": "stream",
     "name": "stderr",
     "text": [
      "Epoch 20 Training: 100%|██████████| 259/259 [01:11<00:00,  3.62it/s]\n",
      "Epoch 20 Evaluating: 100%|██████████| 65/65 [00:18<00:00,  3.43it/s]\n"
     ]
    },
    {
     "output_type": "stream",
     "name": "stdout",
     "text": [
      "Epoch 20: Train Loss = 0.0437, Test Accuracy = 0.9296, Epoch Time = 1.51 min, Total Time = 29.71 min\n"
     ]
    },
    {
     "output_type": "stream",
     "name": "stderr",
     "text": [
      "Epoch 21 Training: 100%|██████████| 259/259 [01:13<00:00,  3.53it/s]\n",
      "Epoch 21 Evaluating: 100%|██████████| 65/65 [00:19<00:00,  3.41it/s]\n"
     ]
    },
    {
     "output_type": "stream",
     "name": "stdout",
     "text": [
      "Epoch 21: Train Loss = 0.0400, Test Accuracy = 0.9349, Epoch Time = 1.54 min, Total Time = 31.25 min\n"
     ]
    },
    {
     "output_type": "stream",
     "name": "stderr",
     "text": [
      "Epoch 22 Training: 100%|██████████| 259/259 [01:13<00:00,  3.51it/s]\n",
      "Epoch 22 Evaluating: 100%|██████████| 65/65 [00:17<00:00,  3.62it/s]\n"
     ]
    },
    {
     "output_type": "stream",
     "name": "stdout",
     "text": [
      "Epoch 22: Train Loss = 0.0227, Test Accuracy = 0.9407, Epoch Time = 1.53 min, Total Time = 32.78 min\n"
     ]
    },
    {
     "output_type": "stream",
     "name": "stderr",
     "text": [
      "Epoch 23 Training: 100%|██████████| 259/259 [01:12<00:00,  3.55it/s]\n",
      "Epoch 23 Evaluating: 100%|██████████| 65/65 [00:18<00:00,  3.43it/s]\n"
     ]
    },
    {
     "output_type": "stream",
     "name": "stdout",
     "text": [
      "Epoch 23: Train Loss = 0.0258, Test Accuracy = 0.9299, Epoch Time = 1.53 min, Total Time = 34.31 min\n"
     ]
    },
    {
     "output_type": "stream",
     "name": "stderr",
     "text": [
      "Epoch 24 Training: 100%|██████████| 259/259 [01:13<00:00,  3.53it/s]\n",
      "Epoch 24 Evaluating: 100%|██████████| 65/65 [00:18<00:00,  3.47it/s]\n"
     ]
    },
    {
     "output_type": "stream",
     "name": "stdout",
     "text": [
      "Epoch 24: Train Loss = 0.0359, Test Accuracy = 0.9144, Epoch Time = 1.53 min, Total Time = 35.84 min\n"
     ]
    },
    {
     "output_type": "stream",
     "name": "stderr",
     "text": [
      "Epoch 25 Training: 100%|██████████| 259/259 [01:12<00:00,  3.55it/s]\n",
      "Epoch 25 Evaluating: 100%|██████████| 65/65 [00:17<00:00,  3.64it/s]\n"
     ]
    },
    {
     "output_type": "stream",
     "name": "stdout",
     "text": [
      "Epoch 25: Train Loss = 0.0344, Test Accuracy = 0.9398, Epoch Time = 1.51 min, Total Time = 37.36 min\n"
     ]
    },
    {
     "output_type": "stream",
     "name": "stderr",
     "text": [
      "Epoch 26 Training: 100%|██████████| 259/259 [01:12<00:00,  3.55it/s]\n",
      "Epoch 26 Evaluating: 100%|██████████| 65/65 [00:18<00:00,  3.52it/s]\n"
     ]
    },
    {
     "output_type": "stream",
     "name": "stdout",
     "text": [
      "Epoch 26: Train Loss = 0.0220, Test Accuracy = 0.9407, Epoch Time = 1.52 min, Total Time = 38.88 min\n"
     ]
    },
    {
     "output_type": "stream",
     "name": "stderr",
     "text": [
      "Epoch 27 Training: 100%|██████████| 259/259 [01:13<00:00,  3.51it/s]\n",
      "Epoch 27 Evaluating: 100%|██████████| 65/65 [00:18<00:00,  3.52it/s]\n"
     ]
    },
    {
     "output_type": "stream",
     "name": "stdout",
     "text": [
      "Epoch 27: Train Loss = 0.0282, Test Accuracy = 0.9139, Epoch Time = 1.54 min, Total Time = 40.42 min\n"
     ]
    },
    {
     "output_type": "stream",
     "name": "stderr",
     "text": [
      "Epoch 28 Training: 100%|██████████| 259/259 [01:10<00:00,  3.67it/s]\n",
      "Epoch 28 Evaluating: 100%|██████████| 65/65 [00:17<00:00,  3.62it/s]\n"
     ]
    },
    {
     "output_type": "stream",
     "name": "stdout",
     "text": [
      "Epoch 28: Train Loss = 0.0385, Test Accuracy = 0.9202, Epoch Time = 1.48 min, Total Time = 41.89 min\n"
     ]
    },
    {
     "output_type": "stream",
     "name": "stderr",
     "text": [
      "Epoch 29 Training: 100%|██████████| 259/259 [01:11<00:00,  3.65it/s]\n",
      "Epoch 29 Evaluating: 100%|██████████| 65/65 [00:18<00:00,  3.53it/s]\n"
     ]
    },
    {
     "output_type": "stream",
     "name": "stdout",
     "text": [
      "Epoch 29: Train Loss = 0.0261, Test Accuracy = 0.9395, Epoch Time = 1.49 min, Total Time = 43.39 min\n"
     ]
    },
    {
     "output_type": "stream",
     "name": "stderr",
     "text": [
      "Epoch 30 Training: 100%|██████████| 259/259 [01:13<00:00,  3.54it/s]\n",
      "Epoch 30 Evaluating: 100%|██████████| 65/65 [00:18<00:00,  3.48it/s]"
     ]
    },
    {
     "output_type": "stream",
     "name": "stdout",
     "text": [
      "Epoch 30: Train Loss = 0.0207, Test Accuracy = 0.9412, Epoch Time = 1.53 min, Total Time = 44.92 min\n",
      "\n",
      "============================================================\n",
      "Training completed..\n",
      "============================================================\n",
      "Training started at:  2025-08-30 09:50:23\n",
      "Training ended at:    2025-08-30 10:35:18\n",
      "Total training time:  0.75 hours (44.92 minutes)\n",
      "\n",
      "Final Results:\n",
      "Best Test Accuracy: 0.9412\n",
      "Final Test Accuracy: 0.9412\n"
     ]
    },
    {
     "output_type": "stream",
     "name": "stderr",
     "text": [
      "\n"
     ]
    },
    {
     "output_type": "display_data",
     "data": {
      "text/plain": [
       "<IPython.core.display.HTML object>"
      ],
      "text/html": []
     },
     "metadata": {}
    },
    {
     "output_type": "display_data",
     "data": {
      "text/plain": [
       "<IPython.core.display.HTML object>"
      ],
      "text/html": [
       "<br>    <style><br>        .wandb-row {<br>            display: flex;<br>            flex-direction: row;<br>            flex-wrap: wrap;<br>            justify-content: flex-start;<br>            width: 100%;<br>        }<br>        .wandb-col {<br>            display: flex;<br>            flex-direction: column;<br>            flex-basis: 100%;<br>            flex: 1;<br>            padding: 10px;<br>        }<br>    </style><br><div class=\"wandb-row\"><div class=\"wandb-col\"><h3>Run history:</h3><br/><table class=\"wandb\"><tr><td>best_test_accuracy</td><td>▁</td></tr><tr><td>epoch</td><td>▁▁▁▂▂▂▂▃▃▃▃▄▄▄▄▅▅▅▅▆▆▆▆▇▇▇▇███</td></tr><tr><td>epoch_duration_minutes</td><td>▁▂▂▂▁▃▄▃▁▁▂▂▃▃▃▄█▇▄▅█▇▇▇▆▇█▂▄▇</td></tr><tr><td>final_test_accuracy</td><td>▁</td></tr><tr><td>gpu_memory_allocated_GB</td><td>▁▁▁▁▁▁▁▁▁▁▁▁▁▁▁▁▁▁▁▁▁▁▁▁▁▁▁▁▁▁</td></tr><tr><td>gpu_memory_reserved_GB</td><td>▁▁▁▁▁▁▁▁▁▁▁▁▁▁▁▁▁▁▁▁▁▁▁▁▁▁▁▁▁▁</td></tr><tr><td>test_accuracy</td><td>▁▅▅▆▆▆▆▇▆▇▇▆█▇█▇▆▇█████▇██▇▇██</td></tr><tr><td>total_elapsed_time_minutes</td><td>▁▁▁▂▂▂▂▃▃▃▃▄▄▄▄▅▅▅▅▆▆▆▆▇▇▇▇███</td></tr><tr><td>total_training_time_hours</td><td>▁</td></tr><tr><td>total_training_time_minutes</td><td>▁</td></tr><tr><td>train_loss</td><td>█▄▃▂▂▂▁▁▁▁▁▁▁▁▁▁▁▁▁▁▁▁▁▁▁▁▁▁▁▁</td></tr></table><br/></div><div class=\"wandb-col\"><h3>Run summary:</h3><br/><table class=\"wandb\"><tr><td>best_test_accuracy</td><td>0.94123</td></tr><tr><td>epoch</td><td>30</td></tr><tr><td>epoch_duration_minutes</td><td>1.53322</td></tr><tr><td>final_test_accuracy</td><td>0.94123</td></tr><tr><td>gpu_memory_allocated_GB</td><td>0.08507</td></tr><tr><td>gpu_memory_reserved_GB</td><td>1.77</td></tr><tr><td>test_accuracy</td><td>0.94123</td></tr><tr><td>total_elapsed_time_minutes</td><td>44.91932</td></tr><tr><td>total_training_time_hours</td><td>0.74866</td></tr><tr><td>total_training_time_minutes</td><td>44.91936</td></tr><tr><td>train_loss</td><td>0.02072</td></tr></table><br/></div></div>"
      ]
     },
     "metadata": {}
    },
    {
     "output_type": "display_data",
     "data": {
      "text/plain": [
       "<IPython.core.display.HTML object>"
      ],
      "text/html": [
       "You can sync this run to the cloud by running:<br><code>wandb sync /content/drive/MyDrive/data/wandb/offline-run-20250830_094941-dndl40p5<code>"
      ]
     },
     "metadata": {}
    },
    {
     "output_type": "display_data",
     "data": {
      "text/plain": [
       "<IPython.core.display.HTML object>"
      ],
      "text/html": [
       "Find logs at: <code>./wandb/offline-run-20250830_094941-dndl40p5/logs</code>"
      ]
     },
     "metadata": {}
    }
   ],
   "source": [
    "class EarlyFusionFER(nn.Module):\n",
    "    \"\"\"\n",
    "    Early Fusion CNN using concatenation fusion type\n",
    "\n",
    "    \"\"\"\n",
    "\n",
    "    def __init__(self, num_classes: int = 7, fusion_type: str = \"concat\"):\n",
    "        \"\"\"\n",
    "        Args:\n",
    "            num_classes: Number of emotion classes (7 for FER)\n",
    "            fusion_type: How to fuse RGB and Thermal (\"concat\" or \"add\")\n",
    "        \"\"\"\n",
    "        super().__init__()\n",
    "\n",
    "        self.num_classes = num_classes\n",
    "        self.fusion_type = fusion_type\n",
    "\n",
    "        # Determine input channels\n",
    "        if fusion_type == \"concat\":\n",
    "            input_channels = 6\n",
    "        else:  # add\n",
    "            input_channels = 3\n",
    "\n",
    "        # Load pre-trained ShuffleNet V2\n",
    "        self.model = shufflenet_v2_x1_0(weights=ShuffleNet_V2_X1_0_Weights.DEFAULT)\n",
    "\n",
    "\n",
    "        # Reference adapt from PyTorch Forums discussion on changing input channels for pretrained models\n",
    "        # https://discuss.pytorch.org/t/how-to-change-no-of-input-channels-to-a-pretrained-model/19379\n",
    "        # https://discuss.pytorch.org/t/transfer-learning-how-to-modify-the-first-conv2d-layer-of-alexnet-to-accomodate-for-9-channel-input/4063\n",
    "\n",
    "        # Modify first conv layer for multimodal input\n",
    "        if input_channels != 3:\n",
    "            # Original first conv layer\n",
    "            original_conv = self.model.conv1[0]\n",
    "\n",
    "            new_conv = nn.Conv2d(\n",
    "                # New number of input channels\n",
    "                input_channels,\n",
    "                # Keep original output channels\n",
    "                original_conv.out_channels,\n",
    "                # Same kernel size\n",
    "                kernel_size=original_conv.kernel_size,\n",
    "                stride=original_conv.stride,\n",
    "                padding=original_conv.padding,\n",
    "                bias=original_conv.bias is not None\n",
    "            )\n",
    "\n",
    "            # Initialise new conv weights\n",
    "            with torch.no_grad():\n",
    "                if input_channels == 6:  # concat case\n",
    "                    new_conv.weight[:, :3, :, :] = original_conv.weight  # RGB channels\n",
    "                    new_conv.weight[:, 3:6, :, :] = original_conv.weight  # Thermal channels\n",
    "\n",
    "                if original_conv.bias is not None:\n",
    "                    new_conv.bias.copy_(original_conv.bias)\n",
    "\n",
    "            # Replace the first conv layer\n",
    "            self.model.conv1[0] = new_conv\n",
    "\n",
    "        # Replace the final classifier to match num_classes\n",
    "        self.model.fc = nn.Linear(self.model.fc.in_features, num_classes)\n",
    "\n",
    "    def forward(self, rgb_images, thermal_images):\n",
    "        \"\"\"\n",
    "        Forward pass\n",
    "\n",
    "        Args:\n",
    "            rgb_images: RGB images tensor (B, 3, H, W)\n",
    "            thermal_images: Thermal images tensor (B, 3, H, W)\n",
    "\n",
    "        Returns:\n",
    "            Logits tensor (B, num_classes)\n",
    "        \"\"\"\n",
    "\n",
    "        # Ensure both images are on the same device\n",
    "        device = rgb_images.device\n",
    "        thermal_images = thermal_images.to(device)\n",
    "\n",
    "        # Fuse RGB and Thermal at input level\n",
    "        if self.fusion_type == \"concat\":   # concat\n",
    "            fused_input = torch.cat([rgb_images, thermal_images], dim=1)  # (B, 6, H, W) 6 channels\n",
    "        else:  # add\n",
    "            # Element-wise addition approach - preserves 3-channel input\n",
    "            fused_input = rgb_images + thermal_images\n",
    "\n",
    "\n",
    "        # Forward pass through ShuffleNet\n",
    "        return self.model(fused_input) # Returns logits (B, num_classes)\n",
    "\n",
    "\n",
    "# Device configuration\n",
    "device = \"cuda\" if torch.cuda.is_available() else \"cpu\"\n",
    "\n",
    "# Initialise multimodal model\n",
    "model = EarlyFusionFER(num_classes=CLASSES, fusion_type=\"concat\")\n",
    "model.to(device)\n",
    "\n",
    "# Loss function and optimiser\n",
    "criterion = torch.nn.CrossEntropyLoss()\n",
    "optimiser = torch.optim.Adam(model.parameters(), lr=LEARNING_RATE)\n",
    "\n",
    "# To collect data for plotting later\n",
    "trainLosses = []\n",
    "testAccuracies = []\n",
    "predictionsArr = []\n",
    "targetsArr = []\n",
    "\n",
    "# For saving results\n",
    "savingLabel = \"MultiModal_EarlyFusion\"\n",
    "\n",
    "\n",
    "# Training timing setup\n",
    "print(\"Starting training...\")\n",
    "training_start_time = time.time()\n",
    "training_start_datetime = datetime.now()\n",
    "print(f\"Training started at: {training_start_datetime.strftime('%Y-%m-%d %H:%M:%S')}\")\n",
    "\n",
    "## Training\n",
    "for epoch in range(EPOCHS):\n",
    "    # add start time\n",
    "    epoch_start_time = time.time()\n",
    "    model.train()\n",
    "    runningTrain = 0\n",
    "\n",
    "    # Training loop\n",
    "    for (rgb, thermal), y in tqdm(train_loader, desc=f\"Epoch {epoch+1} Training\"):\n",
    "        rgb, thermal, y = rgb.to(device), thermal.to(device), y.to(device)\n",
    "        optimiser.zero_grad()\n",
    "\n",
    "        # Forward pass\n",
    "        outputs = model(rgb, thermal)\n",
    "        loss = criterion(outputs, y)\n",
    "\n",
    "        loss.backward()\n",
    "        optimiser.step()\n",
    "\n",
    "        # Accumulate batch loss\n",
    "        runningTrain += loss.item() * rgb.size(0)\n",
    "\n",
    "    # Calculate epoch training loss (once per epoch)\n",
    "    trainLoss = runningTrain / len(train_loader.dataset)\n",
    "\n",
    "    ## Evaluation\n",
    "    model.eval()\n",
    "    accPre = 0\n",
    "    totalDatapoints = 0\n",
    "\n",
    "    for (rgb, thermal), target in tqdm(test_loader, desc=f\"Epoch {epoch+1} Evaluating\"):\n",
    "        rgb, thermal, target = rgb.to(device), thermal.to(device), target.to(device)\n",
    "        with torch.no_grad():\n",
    "            outputs = model(rgb, thermal)\n",
    "            predicted = outputs.argmax(1)\n",
    "\n",
    "            # Collect predictions and targets\n",
    "            predictionsArr.extend(predicted.cpu().numpy())\n",
    "            targetsArr.extend(target.cpu().numpy())\n",
    "\n",
    "            accPre += (predicted == target).sum().item()\n",
    "            totalDatapoints += target.size(0)\n",
    "\n",
    "    finalAcc = accPre / totalDatapoints\n",
    "    trainLosses.append(trainLoss)\n",
    "    testAccuracies.append(finalAcc)\n",
    "\n",
    "    # Calculate epoch time\n",
    "    epoch_end_time = time.time()\n",
    "    epoch_duration = epoch_end_time - epoch_start_time\n",
    "\n",
    "    # Calculate elapsed training time\n",
    "    elapsed_time = epoch_end_time - training_start_time\n",
    "\n",
    "    # Combined wandb log (train loss, test accuracy, GPU usage, timing)\n",
    "    wandb.log({\n",
    "        \"epoch\": epoch + 1,\n",
    "        \"train_loss\": trainLoss,\n",
    "        \"test_accuracy\": finalAcc,\n",
    "        \"gpu_memory_allocated_GB\": torch.cuda.memory_allocated() / 1e9,\n",
    "        \"gpu_memory_reserved_GB\": torch.cuda.memory_reserved() / 1e9,\n",
    "        \"epoch_duration_minutes\": epoch_duration / 60,\n",
    "        \"total_elapsed_time_minutes\": elapsed_time / 60\n",
    "    })\n",
    "\n",
    "    # Print results with timing\n",
    "    print(f\"Epoch {epoch+1}: Train Loss = {trainLoss:.4f}, Test Accuracy = {finalAcc:.4f}, \"\n",
    "          f\"Epoch Time = {epoch_duration/60:.2f} min, Total Time = {elapsed_time/60:.2f} min\")\n",
    "\n",
    "\n",
    "# Training completion timing\n",
    "training_end_time = time.time()\n",
    "training_end_datetime = datetime.now()\n",
    "total_training_time = training_end_time - training_start_time\n",
    "\n",
    "\n",
    "# Final results with timing information\n",
    "print(f\"\\n\" + \"=\"*60)\n",
    "print(f\"Training completed..\")\n",
    "print(f\"=\"*60)\n",
    "print(f\"Training started at:  {training_start_datetime.strftime('%Y-%m-%d %H:%M:%S')}\")\n",
    "print(f\"Training ended at:    {training_end_datetime.strftime('%Y-%m-%d %H:%M:%S')}\")\n",
    "print(f\"Total training time:  {total_training_time/3600:.2f} hours ({total_training_time/60:.2f} minutes)\")\n",
    "\n",
    "# Final results\n",
    "print(f\"\\nFinal Results:\")\n",
    "print(f\"Best Test Accuracy: {max(testAccuracies):.4f}\")\n",
    "print(f\"Final Test Accuracy: {testAccuracies[-1]:.4f}\")\n",
    "\n",
    "\n",
    "# Log final timing to wandb\n",
    "wandb.log({\n",
    "    \"total_training_time_hours\": total_training_time / 3600,\n",
    "    \"total_training_time_minutes\": total_training_time / 60,\n",
    "    \"best_test_accuracy\": max(testAccuracies),\n",
    "    \"final_test_accuracy\": testAccuracies[-1]\n",
    "})\n",
    "\n",
    "wandb.finish()"
   ]
  },
  {
   "cell_type": "markdown",
   "id": "72b6f1fc",
   "metadata": {
    "id": "72b6f1fc"
   },
   "source": [
    "## 5. Visualise and Save Results"
   ]
  },
  {
   "cell_type": "markdown",
   "id": "519ba2f2",
   "metadata": {
    "id": "519ba2f2"
   },
   "source": [
    "### 5.1 Save Metrics"
   ]
  },
  {
   "cell_type": "code",
   "execution_count": 44,
   "id": "4abd2b50",
   "metadata": {
    "id": "4abd2b50",
    "executionInfo": {
     "status": "ok",
     "timestamp": 1756550278764,
     "user_tz": -60,
     "elapsed": 297,
     "user": {
      "displayName": "project",
      "userId": "14839823987823525724"
     }
    }
   },
   "outputs": [],
   "source": [
    "saveResults = \"trainingResults\"\n",
    "os.makedirs(saveResults, exist_ok=True)\n",
    "\n",
    "#save training loss and accuracy to CSV\n",
    "metrics = pd.DataFrame({'Epoch': range(1, len(trainLosses) + 1), 'Training Loss': trainLoss,'Test Accuracy': testAccuracies}) #create each row as epoch\n",
    "\n",
    "#saves based on modality used\n",
    "if savingLabel == \"RGB\":\n",
    "  metrics.to_csv(os.path.join(saveResults, \"metrics_RGB.csv\"), index=False)\n",
    "elif savingLabel == \"Thermal\":\n",
    "  metrics.to_csv(os.path.join(saveResults, \"metrics_Thermal.csv\"), index=False)\n",
    "else:\n",
    "  metrics.to_csv(os.path.join(saveResults, \"metrics_MultiModal_EarlyFusion.csv\"), index=False)\n"
   ]
  },
  {
   "cell_type": "markdown",
   "id": "e403f5bb",
   "metadata": {
    "id": "e403f5bb"
   },
   "source": [
    "### 5.2 Visualise Graphs"
   ]
  },
  {
   "cell_type": "code",
   "source": [
    "# MULTIMODAL\n",
    "#loss curve\n",
    "plt.plot(range(1, len(trainLosses) + 1), trainLosses, marker='o')\n",
    "plt.title(\"Training Loss Over Epochs\")\n",
    "plt.xlabel(\"Epochs\")\n",
    "plt.ylabel(\"Loss\")\n",
    "plt.grid()\n",
    "#saves based on modality used\n",
    "if savingLabel == \"MultiModal_EarlyFusion\":\n",
    "    plt.savefig(os.path.join(saveResults, \"trainLoss_MultiModal_EarlyFusion.png\"))\n",
    "plt.show()\n",
    "\n",
    "#accuracy\n",
    "plt.plot(range(1, len(testAccuracies) + 1), testAccuracies, marker='o')\n",
    "plt.title(\"Test Accuracy Over Epochs\")\n",
    "plt.xlabel(\"Epochs\")\n",
    "plt.ylabel(\"Accuracy\")\n",
    "plt.grid()\n",
    "#saves based on modalžty used\n",
    "if savingLabel == \"MultiModal_EarlyFusion\":\n",
    "    plt.savefig(os.path.join(saveResults, \"testAccuracy_MultiModal_EarlyFusion.png\"))\n",
    "plt.show()"
   ],
   "metadata": {
    "id": "PGPEQKPVv-Kh",
    "colab": {
     "base_uri": "https://localhost:8080/",
     "height": 927
    },
    "outputId": "52dcc87d-7dac-4f41-f6ad-6a19f89e2ae7",
    "executionInfo": {
     "status": "ok",
     "timestamp": 1756550287042,
     "user_tz": -60,
     "elapsed": 850,
     "user": {
      "displayName": "project",
      "userId": "14839823987823525724"
     }
    }
   },
   "id": "PGPEQKPVv-Kh",
   "execution_count": 45,
   "outputs": [
    {
     "output_type": "display_data",
     "data": {
      "text/plain": [
       "<Figure size 640x480 with 1 Axes>"
      ],
      "image/png": "[encoded data removed]"
     },
     "metadata": {}
    },
    {
     "output_type": "display_data",
     "data": {
      "text/plain": [
       "<Figure size 640x480 with 1 Axes>"
      ],
      "image/png": "[encoded data removed]"
     },
     "metadata": {}
    }
   ]
  },
  {
   "cell_type": "code",
   "source": [
    "# MULTIMODAL\n",
    "#confusion matrix and classification report\n",
    "conf_matrix = confusion_matrix(targetsArr, predictionsArr)\n",
    "\n",
    "print(\"\\nClassification Report:\")\n",
    "print(classification_report(targetsArr, predictionsArr))\n",
    "#saves based on modality used\n",
    "if savingLabel == \"MultiModal_EarlyFusion\":\n",
    "    with open(os.path.join(saveResults, \"classificationReport_MultiModal_EarlyFusion.txt\"), \"w\") as f:\n",
    "        f.write(classification_report(targetsArr, predictionsArr))\n",
    "\n",
    "#visualisation of confusion matrix\n",
    "plt.figure(figsize=(8, 6))\n",
    "sns.heatmap(conf_matrix, annot=True, fmt=\"d\", xticklabels=classNames, yticklabels=classNames)\n",
    "plt.title(\"Confusion Matrix\")\n",
    "plt.xlabel(\"Predicted\")\n",
    "plt.ylabel(\"Actual\")\n",
    "#saves based on modality used\n",
    "if savingLabel == \"RGB\":\n",
    "    plt.savefig(os.path.join(saveResults, \"confusionMatrix_MultiModal_EarlyFusion.png\"))\n",
    "plt.show()"
   ],
   "metadata": {
    "id": "awSFgtCzwULG",
    "colab": {
     "base_uri": "https://localhost:8080/",
     "height": 841
    },
    "outputId": "4fc9dda4-cb79-4694-ab39-e0306a7f48b0",
    "executionInfo": {
     "status": "ok",
     "timestamp": 1756550309670,
     "user_tz": -60,
     "elapsed": 762,
     "user": {
      "displayName": "project",
      "userId": "14839823987823525724"
     }
    }
   },
   "id": "awSFgtCzwULG",
   "execution_count": 48,
   "outputs": [
    {
     "output_type": "stream",
     "name": "stdout",
     "text": [
      "\n",
      "Classification Report:\n",
      "              precision    recall  f1-score   support\n",
      "\n",
      "           0       0.89      0.91      0.90     23370\n",
      "           1       0.92      0.94      0.93      6630\n",
      "           2       0.93      0.90      0.91     10380\n",
      "           3       0.90      0.90      0.90     36180\n",
      "           4       0.93      0.85      0.89      3090\n",
      "           5       0.95      0.96      0.96     26460\n",
      "           6       0.84      0.83      0.83     17940\n",
      "\n",
      "    accuracy                           0.90    124050\n",
      "   macro avg       0.91      0.90      0.90    124050\n",
      "weighted avg       0.90      0.90      0.90    124050\n",
      "\n"
     ]
    },
    {
     "output_type": "display_data",
     "data": {
      "text/plain": [
       "<Figure size 800x600 with 2 Axes>"
      ],
      "image/png": "[encoded data removed]"
     },
     "metadata": {}
    }
   ]
  },
  {
   "metadata": {},
   "cell_type": "code",
   "outputs": [],
   "execution_count": null,
   "source": [
    "# Login to wandb - you'll need to enter your API key when prompted\n",
    "!wandb login\n",
    "\n",
    "# Sync the specific offline run to upload it to wandb cloud\n",
    "!wandb sync /content/drive/MyDrive/data/wandb/offline-run-20250830_094941-dndl40p5"
   ],
   "id": "56bf9ba169f556df"
  },
  {
   "cell_type": "code",
   "execution_count": null,
   "id": "7cef3dd9",
   "metadata": {
    "id": "7cef3dd9"
   },
   "outputs": [],
   "source": [
    "#visualising some images and their labels\n",
    "\n",
    "#true images and labels\n",
    "imagesPlot, labelsPlot = next(iter(train_loader))\n",
    "\n",
    "fig = plt.figure(figsize=(10, 8))\n",
    "for i in range(3*3):\n",
    "\n",
    "    ax = fig.add_subplot(3, 3, i+1)\n",
    "    ax.imshow(np.transpose(torchvision.utils.make_grid(imagesPlot[i].cpu(), normalize=True, padding=1).numpy(), (1, 2, 0)))\n",
    "    ax.set_title(classNames[labelsPlot[i]])\n",
    "    ax.axis('off')\n",
    "    plt.suptitle('Sample Training Images with True Labels',fontsize=14)\n",
    "plt.tight_layout()\n",
    "\n",
    "\n",
    "#predicted images and labels\n",
    "imagesPlotPred, labelsPlotPred = next(iter(test_loader))\n",
    "\n",
    "fig = plt.figure(figsize=(10, 8))\n",
    "for i in range(3*3):\n",
    "\n",
    "    ax = fig.add_subplot(3, 3, i+1)\n",
    "    ax.imshow(np.transpose(torchvision.utils.make_grid(imagesPlotPred[i].cpu(), normalize=True, padding=1).numpy(), (1, 2, 0)))\n",
    "\n",
    "    trueLabel = classNames[labelsPlotPred[i]]\n",
    "    predictedLabel = classNames[predicted[i]]\n",
    "\n",
    "    ax.set_title(f'True: {trueLabel}\\nPredicted: {predictedLabel}')\n",
    "    ax.axis(\"off\")\n",
    "    plt.suptitle('Sample Testing Images with True and Predicted Labels',fontsize=14)\n",
    "plt.tight_layout()"
   ]
  }
 ],
 "metadata": {
  "accelerator": "GPU",
  "colab": {
   "gpuType": "T4",
   "provenance": [],
   "machine_shape": "hm"
  },
  "kernelspec": {
   "display_name": "Python 3",
   "name": "python3"
  },
  "language_info": {
   "codemirror_mode": {
    "name": "ipython",
    "version": 3
   },
   "file_extension": ".py",
   "mimetype": "text/x-python",
   "name": "python",
   "nbconvert_exporter": "python",
   "pygments_lexer": "ipython3",
   "version": "3.12.8"
  }
 },
 "nbformat": 4,
 "nbformat_minor": 5
}
